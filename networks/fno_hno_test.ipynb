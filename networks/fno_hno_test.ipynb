{
 "cells": [
  {
   "cell_type": "code",
   "execution_count": 1,
   "metadata": {},
   "outputs": [],
   "source": [
    "import jax\n",
    "import jax.numpy as jnp\n",
    "from jax import vmap, grad"
   ]
  },
  {
   "cell_type": "code",
   "execution_count": 2,
   "metadata": {},
   "outputs": [],
   "source": [
    "import sys\n",
    "import os\n",
    "sys.path.append(\"..\")\n",
    "\n",
    "import jax\n",
    "jax.config.update(\"jax_enable_x64\", True)\n",
    "import equinox as eqx\n",
    "import jax.numpy as jnp\n",
    "from jax import vmap\n",
    "import jax_dataloader as jdl\n",
    "import networks\n",
    "from utils import *\n",
    "\n",
    "import jax.experimental.mesh_utils as mesh_utils\n",
    "import jax.sharding as jshard\n",
    "import argparse\n",
    "from optax.contrib import reduce_on_plateau\n",
    "\n",
    "problem = \"advection\"\n",
    "network = \"fno_timestepping\"\n",
    "load_operator = False\n",
    "\n",
    "data_path = \"C:/Users/eirik/OneDrive - NTNU/5. klasse/prosjektoppgave/eirik_prosjektoppgave/data/\"\n",
    "hparams_path = \"C:/Users/eirik/OneDrive - NTNU/5. klasse/prosjektoppgave/eirik_prosjektoppgave/hyperparameters/\"\n",
    "checkpoint_path = \"C:/Users/eirik/orbax/checkpoints/\"\n",
    "\n",
    "scaled_data = jnp.load(data_path + problem + \"_z_score.npz\")\n",
    "a_train_s = jnp.array(scaled_data[\"a_train_s\"])\n",
    "u_train_s = jnp.array(scaled_data[\"u_train_s\"])\n",
    "a_val_s = jnp.array(scaled_data[\"a_val_s\"])\n",
    "u_val_s = jnp.array(scaled_data[\"u_val_s\"])\n",
    "\n",
    "x_train_s = jnp.array(scaled_data[\"x_train_s\"])\n",
    "t_train_s = jnp.array(scaled_data[\"t_train_s\"])\n",
    "\n",
    "z_score_data = {\n",
    "    \"u_std\" : scaled_data[\"u_std\"].item(),\n",
    "    \"u_mean\" : scaled_data[\"u_mean\"].item(),\n",
    "    \"x_std\" : scaled_data[\"x_std\"].item(),\n",
    "    \"x_mean\" : scaled_data[\"x_mean\"].item(),\n",
    "    \"t_std\" : scaled_data[\"t_std\"].item(),\n",
    "    \"t_mean\" : scaled_data[\"t_mean\"].item()\n",
    "}\n",
    "\n",
    "# IMPORT WANTED NETWORK ARCHITECTURE\n",
    "from networks.hno_fno_timestepping import *\n",
    "\n",
    "with open(hparams_path +f\"{network}_{problem}.json\", \"rb\") as f:\n",
    "    hparams_operator_net_dict = json.load(f) | z_score_data\n",
    "    operator_net_hparams = OperatorHparams(**hparams_operator_net_dict)\n",
    "#operator_net = OperatorNet(operator_net_hparams)\n",
    "from networks.fno_timestepping import FNOTimeStepping as OperatorNet\n",
    "operator_net = OperatorNet(operator_net_hparams)\n",
    "\n",
    "# IMPORT HYPERPARAMETERS\n",
    "with open(hparams_path + \"energy_net_\" + problem + '.json', \"rb\") as f:\n",
    "    hparams_energy_net_dict = json.load(f) | z_score_data\n",
    "    energy_net_hparams = EnergyNetHparams(**hparams_energy_net_dict)\n",
    "    \n",
    "energy_net = EnergyNet(energy_net_hparams)\n",
    "\n",
    "model = HNO(energy_net = energy_net, operator_net= operator_net)"
   ]
  },
  {
   "cell_type": "code",
   "execution_count": 3,
   "metadata": {},
   "outputs": [],
   "source": [
    "import matplotlib.pyplot as plt"
   ]
  },
  {
   "cell_type": "code",
   "execution_count": 4,
   "metadata": {},
   "outputs": [
    {
     "data": {
      "text/plain": [
       "<matplotlib.image.AxesImage at 0x1b235457890>"
      ]
     },
     "execution_count": 4,
     "metadata": {},
     "output_type": "execute_result"
    },
    {
     "data": {
      "image/png": "[encoded data removed]",
      "text/plain": [
       "<Figure size 640x480 with 1 Axes>"
      ]
     },
     "metadata": {},
     "output_type": "display_data"
    }
   ],
   "source": [
    "plt.imshow(model(a_train_s[0], x_train_s, t_train_s))"
   ]
  },
  {
   "cell_type": "code",
   "execution_count": 8,
   "metadata": {},
   "outputs": [],
   "source": [
    "def F(u,u_x):\n",
    "    return u**2 * u_x**3\n",
    "\n",
    "def test(u,u_x):\n",
    "    dF__du = grad(F)\n",
    "    dF__du_x = grad(F, 1)\n",
    "    \n",
    "    u_xx = 12.3\n",
    "    u_xxx = 4.5\n",
    "    \n",
    "    d2F__du2 = grad(dF__du)\n",
    "    d2F__du_x2 = grad(dF__du_x, 1)\n",
    "    d2F__du_x2_val = vmap(d2F__du_x2)(u, u_x)\n",
    "    \n",
    "    d2F__du_du_x_val = vmap(grad(dF__du,1))(u, u_x)\n",
    "    \n",
    "    d2F__du2_val, d3F__du_x_du2_val = vmap(value_and_grad(d2F__du2,1))(u, u_x)\n",
    "    \n",
    "    d3F__du_x2_du_val, d3F__du_x3_val = vmap(grad(d2F__du_x2, (0, 1)))(u, u_x)\n",
    "    \n",
    "    d2F__du_dx_val = d2F__du2_val * u_x  + d2F__du_du_x_val * u_xx\n",
    "    d3F__du_x_dx2_val = d2F__du_du_x_val*u_xx +\\\n",
    "                        d2F__du_x2_val*u_xxx +\\\n",
    "                        d3F__du_x_du2_val*u_x**2 +\\\n",
    "                        2*d3F__du_x2_du_val*u_x*u_xx+\\\n",
    "                        d3F__du_x3_val * u_xx**2\n",
    "                                \n",
    "    𝒢δℋ = - d2F__du_dx_val + d3F__du_x_dx2_val\n",
    "    return 𝒢δℋ.reshape(100,100)"
   ]
  },
  {
   "cell_type": "code",
   "execution_count": 9,
   "metadata": {},
   "outputs": [],
   "source": [
    "u = random.uniform(random.key(0), (100, 100)).ravel()\n",
    "u_x = random.uniform(random.key(1), (100, 100)).ravel()"
   ]
  },
  {
   "cell_type": "code",
   "execution_count": 25,
   "metadata": {},
   "outputs": [],
   "source": [
    "def test2(u,u_x):\n",
    "    d2F__du2 = vmap(grad(grad(F)))(u, u_x)\n",
    "    \n",
    "    dF__du_x = grad(F, 1)\n",
    "    \n",
    "    #d2F__dudu_x_and_d2F__du_x2  = grad(dF__du_x, (0,1))\n",
    "    #values, hessian = vmap(value_and_grad(d2F__dudu_x_and_d2F__du_x2, (0,1)))(u, u_x)\n",
    "    \n",
    "    jacfwd(jacrev(dF__du_x))(u, u_x)\n",
    "   \n",
    "    #return 𝒢δℋ.reshape(100,100)"
   ]
  },
  {
   "cell_type": "code",
   "execution_count": 26,
   "metadata": {},
   "outputs": [
    {
     "ename": "TypeError",
     "evalue": "Gradient only defined for scalar-output functions. Output had shape: (10000,).",
     "output_type": "error",
     "traceback": [
      "\u001b[1;31m---------------------------------------------------------------------------\u001b[0m",
      "\u001b[1;31mTypeError\u001b[0m                                 Traceback (most recent call last)",
      "Cell \u001b[1;32mIn[26], line 1\u001b[0m\n\u001b[1;32m----> 1\u001b[0m \u001b[43mtest2\u001b[49m\u001b[43m(\u001b[49m\u001b[43mu\u001b[49m\u001b[43m,\u001b[49m\u001b[43m \u001b[49m\u001b[43mu_x\u001b[49m\u001b[43m)\u001b[49m\n",
      "Cell \u001b[1;32mIn[25], line 9\u001b[0m, in \u001b[0;36mtest2\u001b[1;34m(u, u_x)\u001b[0m\n\u001b[0;32m      4\u001b[0m dF__du_x \u001b[38;5;241m=\u001b[39m grad(F, \u001b[38;5;241m1\u001b[39m)\n\u001b[0;32m      6\u001b[0m \u001b[38;5;66;03m#d2F__dudu_x_and_d2F__du_x2  = grad(dF__du_x, (0,1))\u001b[39;00m\n\u001b[0;32m      7\u001b[0m \u001b[38;5;66;03m#values, hessian = vmap(value_and_grad(d2F__dudu_x_and_d2F__du_x2, (0,1)))(u, u_x)\u001b[39;00m\n\u001b[1;32m----> 9\u001b[0m \u001b[43mjacfwd\u001b[49m\u001b[43m(\u001b[49m\u001b[43mjacrev\u001b[49m\u001b[43m(\u001b[49m\u001b[43mdF__du_x\u001b[49m\u001b[43m)\u001b[49m\u001b[43m)\u001b[49m\u001b[43m(\u001b[49m\u001b[43mu\u001b[49m\u001b[43m,\u001b[49m\u001b[43m \u001b[49m\u001b[43mu_x\u001b[49m\u001b[43m)\u001b[49m\n",
      "File \u001b[1;32mc:\\Users\\eirik\\anaconda3\\envs\\prosjektoppgave\\Lib\\site-packages\\jax\\_src\\api.py:581\u001b[0m, in \u001b[0;36mjacfwd.<locals>.jacfun\u001b[1;34m(*args, **kwargs)\u001b[0m\n\u001b[0;32m    579\u001b[0m \u001b[38;5;28;01mif\u001b[39;00m \u001b[38;5;129;01mnot\u001b[39;00m has_aux:\n\u001b[0;32m    580\u001b[0m   pushfwd: Callable \u001b[38;5;241m=\u001b[39m partial(_jvp, f_partial, dyn_args)\n\u001b[1;32m--> 581\u001b[0m   y, jac \u001b[38;5;241m=\u001b[39m \u001b[43mvmap\u001b[49m\u001b[43m(\u001b[49m\u001b[43mpushfwd\u001b[49m\u001b[43m,\u001b[49m\u001b[43m \u001b[49m\u001b[43mout_axes\u001b[49m\u001b[38;5;241;43m=\u001b[39;49m\u001b[43m(\u001b[49m\u001b[38;5;28;43;01mNone\u001b[39;49;00m\u001b[43m,\u001b[49m\u001b[43m \u001b[49m\u001b[38;5;241;43m-\u001b[39;49m\u001b[38;5;241;43m1\u001b[39;49m\u001b[43m)\u001b[49m\u001b[43m)\u001b[49m\u001b[43m(\u001b[49m\u001b[43m_std_basis\u001b[49m\u001b[43m(\u001b[49m\u001b[43mdyn_args\u001b[49m\u001b[43m)\u001b[49m\u001b[43m)\u001b[49m\n\u001b[0;32m    582\u001b[0m \u001b[38;5;28;01melse\u001b[39;00m:\n\u001b[0;32m    583\u001b[0m   pushfwd: Callable \u001b[38;5;241m=\u001b[39m partial(_jvp, f_partial, dyn_args, has_aux\u001b[38;5;241m=\u001b[39m\u001b[38;5;28;01mTrue\u001b[39;00m)\n",
      "    \u001b[1;31m[... skipping hidden 16 frame]\u001b[0m\n",
      "File \u001b[1;32mc:\\Users\\eirik\\anaconda3\\envs\\prosjektoppgave\\Lib\\site-packages\\jax\\_src\\api.py:486\u001b[0m, in \u001b[0;36m_check_scalar\u001b[1;34m(x)\u001b[0m\n\u001b[0;32m    484\u001b[0m \u001b[38;5;28;01mif\u001b[39;00m \u001b[38;5;28misinstance\u001b[39m(aval, ShapedArray):\n\u001b[0;32m    485\u001b[0m   \u001b[38;5;28;01mif\u001b[39;00m aval\u001b[38;5;241m.\u001b[39mshape \u001b[38;5;241m!=\u001b[39m ():\n\u001b[1;32m--> 486\u001b[0m     \u001b[38;5;28;01mraise\u001b[39;00m \u001b[38;5;167;01mTypeError\u001b[39;00m(msg(\u001b[38;5;124mf\u001b[39m\u001b[38;5;124m\"\u001b[39m\u001b[38;5;124mhad shape: \u001b[39m\u001b[38;5;132;01m{\u001b[39;00maval\u001b[38;5;241m.\u001b[39mshape\u001b[38;5;132;01m}\u001b[39;00m\u001b[38;5;124m\"\u001b[39m))\n\u001b[0;32m    487\u001b[0m \u001b[38;5;28;01melse\u001b[39;00m:\n\u001b[0;32m    488\u001b[0m   \u001b[38;5;28;01mraise\u001b[39;00m \u001b[38;5;167;01mTypeError\u001b[39;00m(msg(\u001b[38;5;124mf\u001b[39m\u001b[38;5;124m\"\u001b[39m\u001b[38;5;124mhad abstract value \u001b[39m\u001b[38;5;132;01m{\u001b[39;00maval\u001b[38;5;132;01m}\u001b[39;00m\u001b[38;5;124m\"\u001b[39m))\n",
      "\u001b[1;31mTypeError\u001b[0m: Gradient only defined for scalar-output functions. Output had shape: (10000,)."
     ]
    }
   ],
   "source": [
    "test2(u, u_x)"
   ]
  },
  {
   "cell_type": "code",
   "execution_count": 33,
   "metadata": {},
   "outputs": [],
   "source": [
    "from jax import jacfwd"
   ]
  },
  {
   "cell_type": "code",
   "execution_count": 35,
   "metadata": {},
   "outputs": [
    {
     "data": {
      "text/plain": [
       "((Array(2., dtype=float64, weak_type=True),\n",
       "  Array(0., dtype=float64, weak_type=True)),\n",
       " (Array(0., dtype=float64, weak_type=True),\n",
       "  Array(6., dtype=float64, weak_type=True)))"
      ]
     },
     "execution_count": 35,
     "metadata": {},
     "output_type": "execute_result"
    }
   ],
   "source": [
    "ddf = jacrev(df, argnums=(0,1))\n",
    "\n",
    "ddf(1.,1.)"
   ]
  },
  {
   "cell_type": "code",
   "execution_count": 3,
   "metadata": {},
   "outputs": [],
   "source": [
    "import matplotlib.pyplot as plt"
   ]
  },
  {
   "cell_type": "code",
   "execution_count": 4,
   "metadata": {},
   "outputs": [
    {
     "data": {
      "text/plain": [
       "<matplotlib.colorbar.Colorbar at 0x2115ba7dfd0>"
      ]
     },
     "execution_count": 4,
     "metadata": {},
     "output_type": "execute_result"
    },
    {
     "data": {
      "image/png": "[encoded data removed]",
      "text/plain": [
       "<Figure size 640x480 with 2 Axes>"
      ]
     },
     "metadata": {},
     "output_type": "display_data"
    }
   ],
   "source": [
    "plt.imshow(operator_net.Dx(a_train_s[0], x_train_s, t_train_s))\n",
    "plt.colorbar()"
   ]
  },
  {
   "cell_type": "code",
   "execution_count": 17,
   "metadata": {},
   "outputs": [],
   "source": [
    "def pred1(a, x, t):\n",
    "    u = lambda x : model.u(a, x, t) # u(x), function in x only (for convenience)\n",
    "    u_x = grad(u) # u_x(x), function\n",
    "\n",
    "    dFdu = lambda x : grad(model.F, 0)(u(x), u_x(x)) # ∂F/∂u(x), function\n",
    "    dFdu_x = lambda x : grad(model.F, 1)(u(x), u_x(x)) # ∂F/∂u_x(x), function\n",
    "    δℋ = lambda x : dFdu(x) - grad(dFdu_x)(x) # δℋ/δu(x), function\n",
    "    \n",
    "    𝒢δℋ = grad(δℋ)\n",
    "    return -𝒢δℋ(x)\n",
    "\n",
    "def pred2(a, x, t):\n",
    "    u_func = lambda x : model.u(a, x, t) # u(x), function in x only (for convenience)\n",
    "    u_x_func = grad(u_func) # u_x(x), function\n",
    "    u_xx_func = grad(u_xx_func) # u_xx(x), function\n",
    "    u_xxx_func = grad(u_xxx_func) # u_xxx(x), function\n",
    "    \n",
    "    u = u_func(x)\n",
    "    u_x = u_x_func(x)\n",
    "    u_xx = u_xx_func(x)\n",
    "    u_xxx = u_xxx_func(x)\n",
    "    \n",
    "    dF__du = grad(model.F)\n",
    "    dF__du_x = grad(model.F, 1)\n",
    "    d2F__du2 = grad(dF__du)\n",
    "    d2F__du_x2 = grad(dF__du_x, 1)\n",
    "    d2F__du_du_x = grad(dF__du,1)\n",
    "    d3F__du_x_du2 = grad(d2F__du2, 1)\n",
    "    d3F__du_x2_du = grad(d2F__du_x2)\n",
    "    d3F__du_x3 = grad(d2F__du_x2, 1)\n",
    "    \n",
    "    u_val = u(x)\n",
    "    u_x_val = u_x(x)\n",
    "    u_xx_val = u_xx(x)\n",
    "    u_xxx_val = u_xxx(x)\n",
    "    d2F__du_du_x_val = d2F__du_du_x(u_val, u_x_val)\n",
    "    d2F__du_dx = d2F__du2(u_val, u_x_val) * u_x_val  + d2F__du_du_x_val * u_xx_val\n",
    "    \n",
    "    d3F__du_x_dx2 = d2F__du_du_x_val*u_xx_val +\\\n",
    "                                d2F__du_x2(u_val, u_x_val)*u_xxx_val +\\\n",
    "                                d3F__du_x_du2(u_val, u_x_val)*u_x_val**2 +\\\n",
    "                                2*d3F__du_x2_du(u_val, u_x_val)*u_x_val*u_xx_val+\\\n",
    "                                u_xx_val**2*d3F__du_x3(u_val, u_x_val)\n",
    "                                 \n",
    "    𝒢_δℋ__δu = - d2F__du_dx +  d3F__du_x_dx2\n",
    "    return 𝒢_δℋ__δu"
   ]
  },
  {
   "cell_type": "code",
   "execution_count": 18,
   "metadata": {},
   "outputs": [
    {
     "data": {
      "text/plain": [
       "Array(1102.95872925, dtype=float64)"
      ]
     },
     "execution_count": 18,
     "metadata": {},
     "output_type": "execute_result"
    }
   ],
   "source": [
    "pred2(a_train_s[0], x_train_s[9], t_train_s[23])"
   ]
  },
  {
   "cell_type": "code",
   "execution_count": 13,
   "metadata": {},
   "outputs": [
    {
     "data": {
      "text/plain": [
       "Array(1102.95872925, dtype=float64)"
      ]
     },
     "execution_count": 13,
     "metadata": {},
     "output_type": "execute_result"
    }
   ],
   "source": [
    "pred1(a_train_s[0], x_train_s[9], t_train_s[23])"
   ]
  },
  {
   "cell_type": "code",
   "execution_count": 5,
   "metadata": {},
   "outputs": [],
   "source": [
    "from jax import jacrev"
   ]
  },
  {
   "cell_type": "code",
   "execution_count": 7,
   "metadata": {},
   "outputs": [
    {
     "name": "stdout",
     "output_type": "stream",
     "text": [
      "Calling _call_fwd\n",
      "Calling _call_bwd\n",
      "(77, 64) (77, 64)\n"
     ]
    },
    {
     "ename": "ValueError",
     "evalue": "Custom VJP bwd rule must produce an output with the same shape/dtypes as the args tuple of the primal function, but at output[0] the bwd rule produced an output of shape/dtype float64[64,64] corresponding to an input of shape/dtype float64[64].",
     "output_type": "error",
     "traceback": [
      "\u001b[1;31m---------------------------------------------------------------------------\u001b[0m",
      "\u001b[1;31mJaxStackTraceBeforeTransformation\u001b[0m         Traceback (most recent call last)",
      "File \u001b[1;32m<frozen runpy>:198\u001b[0m, in \u001b[0;36m_run_module_as_main\u001b[1;34m()\u001b[0m\n",
      "File \u001b[1;32m<frozen runpy>:88\u001b[0m, in \u001b[0;36m_run_code\u001b[1;34m()\u001b[0m\n",
      "File \u001b[1;32mc:\\Users\\eirik\\anaconda3\\envs\\prosjektoppgave\\Lib\\site-packages\\ipykernel_launcher.py:18\u001b[0m\n\u001b[0;32m     16\u001b[0m \u001b[38;5;28;01mfrom\u001b[39;00m \u001b[38;5;21;01mipykernel\u001b[39;00m \u001b[38;5;28;01mimport\u001b[39;00m kernelapp \u001b[38;5;28;01mas\u001b[39;00m app\n\u001b[1;32m---> 18\u001b[0m app\u001b[38;5;241m.\u001b[39mlaunch_new_instance()\n",
      "File \u001b[1;32mc:\\Users\\eirik\\anaconda3\\envs\\prosjektoppgave\\Lib\\site-packages\\traitlets\\config\\application.py:1075\u001b[0m, in \u001b[0;36mlaunch_instance\u001b[1;34m()\u001b[0m\n\u001b[0;32m   1074\u001b[0m app\u001b[38;5;241m.\u001b[39minitialize(argv)\n\u001b[1;32m-> 1075\u001b[0m app\u001b[38;5;241m.\u001b[39mstart()\n",
      "File \u001b[1;32mc:\\Users\\eirik\\anaconda3\\envs\\prosjektoppgave\\Lib\\site-packages\\ipykernel\\kernelapp.py:739\u001b[0m, in \u001b[0;36mstart\u001b[1;34m()\u001b[0m\n\u001b[0;32m    738\u001b[0m \u001b[38;5;28;01mtry\u001b[39;00m:\n\u001b[1;32m--> 739\u001b[0m     \u001b[38;5;28mself\u001b[39m\u001b[38;5;241m.\u001b[39mio_loop\u001b[38;5;241m.\u001b[39mstart()\n\u001b[0;32m    740\u001b[0m \u001b[38;5;28;01mexcept\u001b[39;00m \u001b[38;5;167;01mKeyboardInterrupt\u001b[39;00m:\n",
      "File \u001b[1;32mc:\\Users\\eirik\\anaconda3\\envs\\prosjektoppgave\\Lib\\site-packages\\tornado\\platform\\asyncio.py:205\u001b[0m, in \u001b[0;36mstart\u001b[1;34m()\u001b[0m\n\u001b[0;32m    204\u001b[0m \u001b[38;5;28;01mdef\u001b[39;00m \u001b[38;5;21mstart\u001b[39m(\u001b[38;5;28mself\u001b[39m) \u001b[38;5;241m-\u001b[39m\u001b[38;5;241m>\u001b[39m \u001b[38;5;28;01mNone\u001b[39;00m:\n\u001b[1;32m--> 205\u001b[0m     \u001b[38;5;28mself\u001b[39m\u001b[38;5;241m.\u001b[39masyncio_loop\u001b[38;5;241m.\u001b[39mrun_forever()\n",
      "File \u001b[1;32mc:\\Users\\eirik\\anaconda3\\envs\\prosjektoppgave\\Lib\\asyncio\\base_events.py:641\u001b[0m, in \u001b[0;36mrun_forever\u001b[1;34m()\u001b[0m\n\u001b[0;32m    640\u001b[0m \u001b[38;5;28;01mwhile\u001b[39;00m \u001b[38;5;28;01mTrue\u001b[39;00m:\n\u001b[1;32m--> 641\u001b[0m     \u001b[38;5;28mself\u001b[39m\u001b[38;5;241m.\u001b[39m_run_once()\n\u001b[0;32m    642\u001b[0m     \u001b[38;5;28;01mif\u001b[39;00m \u001b[38;5;28mself\u001b[39m\u001b[38;5;241m.\u001b[39m_stopping:\n",
      "File \u001b[1;32mc:\\Users\\eirik\\anaconda3\\envs\\prosjektoppgave\\Lib\\asyncio\\base_events.py:1986\u001b[0m, in \u001b[0;36m_run_once\u001b[1;34m()\u001b[0m\n\u001b[0;32m   1985\u001b[0m     \u001b[38;5;28;01melse\u001b[39;00m:\n\u001b[1;32m-> 1986\u001b[0m         handle\u001b[38;5;241m.\u001b[39m_run()\n\u001b[0;32m   1987\u001b[0m handle \u001b[38;5;241m=\u001b[39m \u001b[38;5;28;01mNone\u001b[39;00m\n",
      "File \u001b[1;32mc:\\Users\\eirik\\anaconda3\\envs\\prosjektoppgave\\Lib\\asyncio\\events.py:88\u001b[0m, in \u001b[0;36m_run\u001b[1;34m()\u001b[0m\n\u001b[0;32m     87\u001b[0m \u001b[38;5;28;01mtry\u001b[39;00m:\n\u001b[1;32m---> 88\u001b[0m     \u001b[38;5;28mself\u001b[39m\u001b[38;5;241m.\u001b[39m_context\u001b[38;5;241m.\u001b[39mrun(\u001b[38;5;28mself\u001b[39m\u001b[38;5;241m.\u001b[39m_callback, \u001b[38;5;241m*\u001b[39m\u001b[38;5;28mself\u001b[39m\u001b[38;5;241m.\u001b[39m_args)\n\u001b[0;32m     89\u001b[0m \u001b[38;5;28;01mexcept\u001b[39;00m (\u001b[38;5;167;01mSystemExit\u001b[39;00m, \u001b[38;5;167;01mKeyboardInterrupt\u001b[39;00m):\n",
      "File \u001b[1;32mc:\\Users\\eirik\\anaconda3\\envs\\prosjektoppgave\\Lib\\site-packages\\ipykernel\\kernelbase.py:545\u001b[0m, in \u001b[0;36mdispatch_queue\u001b[1;34m()\u001b[0m\n\u001b[0;32m    544\u001b[0m \u001b[38;5;28;01mtry\u001b[39;00m:\n\u001b[1;32m--> 545\u001b[0m     \u001b[38;5;28;01mawait\u001b[39;00m \u001b[38;5;28mself\u001b[39m\u001b[38;5;241m.\u001b[39mprocess_one()\n\u001b[0;32m    546\u001b[0m \u001b[38;5;28;01mexcept\u001b[39;00m \u001b[38;5;167;01mException\u001b[39;00m:\n",
      "File \u001b[1;32mc:\\Users\\eirik\\anaconda3\\envs\\prosjektoppgave\\Lib\\site-packages\\ipykernel\\kernelbase.py:534\u001b[0m, in \u001b[0;36mprocess_one\u001b[1;34m()\u001b[0m\n\u001b[0;32m    533\u001b[0m         \u001b[38;5;28;01mreturn\u001b[39;00m\n\u001b[1;32m--> 534\u001b[0m \u001b[38;5;28;01mawait\u001b[39;00m dispatch(\u001b[38;5;241m*\u001b[39margs)\n",
      "File \u001b[1;32mc:\\Users\\eirik\\anaconda3\\envs\\prosjektoppgave\\Lib\\site-packages\\ipykernel\\kernelbase.py:437\u001b[0m, in \u001b[0;36mdispatch_shell\u001b[1;34m()\u001b[0m\n\u001b[0;32m    436\u001b[0m     \u001b[38;5;28;01mif\u001b[39;00m inspect\u001b[38;5;241m.\u001b[39misawaitable(result):\n\u001b[1;32m--> 437\u001b[0m         \u001b[38;5;28;01mawait\u001b[39;00m result\n\u001b[0;32m    438\u001b[0m \u001b[38;5;28;01mexcept\u001b[39;00m \u001b[38;5;167;01mException\u001b[39;00m:\n",
      "File \u001b[1;32mc:\\Users\\eirik\\anaconda3\\envs\\prosjektoppgave\\Lib\\site-packages\\ipykernel\\ipkernel.py:362\u001b[0m, in \u001b[0;36mexecute_request\u001b[1;34m()\u001b[0m\n\u001b[0;32m    361\u001b[0m \u001b[38;5;28mself\u001b[39m\u001b[38;5;241m.\u001b[39m_associate_new_top_level_threads_with(parent_header)\n\u001b[1;32m--> 362\u001b[0m \u001b[38;5;28;01mawait\u001b[39;00m \u001b[38;5;28msuper\u001b[39m()\u001b[38;5;241m.\u001b[39mexecute_request(stream, ident, parent)\n",
      "File \u001b[1;32mc:\\Users\\eirik\\anaconda3\\envs\\prosjektoppgave\\Lib\\site-packages\\ipykernel\\kernelbase.py:778\u001b[0m, in \u001b[0;36mexecute_request\u001b[1;34m()\u001b[0m\n\u001b[0;32m    777\u001b[0m \u001b[38;5;28;01mif\u001b[39;00m inspect\u001b[38;5;241m.\u001b[39misawaitable(reply_content):\n\u001b[1;32m--> 778\u001b[0m     reply_content \u001b[38;5;241m=\u001b[39m \u001b[38;5;28;01mawait\u001b[39;00m reply_content\n\u001b[0;32m    780\u001b[0m \u001b[38;5;66;03m# Flush output before sending the reply.\u001b[39;00m\n",
      "File \u001b[1;32mc:\\Users\\eirik\\anaconda3\\envs\\prosjektoppgave\\Lib\\site-packages\\ipykernel\\ipkernel.py:449\u001b[0m, in \u001b[0;36mdo_execute\u001b[1;34m()\u001b[0m\n\u001b[0;32m    448\u001b[0m \u001b[38;5;28;01mif\u001b[39;00m accepts_params[\u001b[38;5;124m\"\u001b[39m\u001b[38;5;124mcell_id\u001b[39m\u001b[38;5;124m\"\u001b[39m]:\n\u001b[1;32m--> 449\u001b[0m     res \u001b[38;5;241m=\u001b[39m shell\u001b[38;5;241m.\u001b[39mrun_cell(\n\u001b[0;32m    450\u001b[0m         code,\n\u001b[0;32m    451\u001b[0m         store_history\u001b[38;5;241m=\u001b[39mstore_history,\n\u001b[0;32m    452\u001b[0m         silent\u001b[38;5;241m=\u001b[39msilent,\n\u001b[0;32m    453\u001b[0m         cell_id\u001b[38;5;241m=\u001b[39mcell_id,\n\u001b[0;32m    454\u001b[0m     )\n\u001b[0;32m    455\u001b[0m \u001b[38;5;28;01melse\u001b[39;00m:\n",
      "File \u001b[1;32mc:\\Users\\eirik\\anaconda3\\envs\\prosjektoppgave\\Lib\\site-packages\\ipykernel\\zmqshell.py:549\u001b[0m, in \u001b[0;36mrun_cell\u001b[1;34m()\u001b[0m\n\u001b[0;32m    548\u001b[0m \u001b[38;5;28mself\u001b[39m\u001b[38;5;241m.\u001b[39m_last_traceback \u001b[38;5;241m=\u001b[39m \u001b[38;5;28;01mNone\u001b[39;00m\n\u001b[1;32m--> 549\u001b[0m \u001b[38;5;28;01mreturn\u001b[39;00m \u001b[38;5;28msuper\u001b[39m()\u001b[38;5;241m.\u001b[39mrun_cell(\u001b[38;5;241m*\u001b[39margs, \u001b[38;5;241m*\u001b[39m\u001b[38;5;241m*\u001b[39mkwargs)\n",
      "File \u001b[1;32mc:\\Users\\eirik\\anaconda3\\envs\\prosjektoppgave\\Lib\\site-packages\\IPython\\core\\interactiveshell.py:3075\u001b[0m, in \u001b[0;36mrun_cell\u001b[1;34m()\u001b[0m\n\u001b[0;32m   3074\u001b[0m \u001b[38;5;28;01mtry\u001b[39;00m:\n\u001b[1;32m-> 3075\u001b[0m     result \u001b[38;5;241m=\u001b[39m \u001b[38;5;28mself\u001b[39m\u001b[38;5;241m.\u001b[39m_run_cell(\n\u001b[0;32m   3076\u001b[0m         raw_cell, store_history, silent, shell_futures, cell_id\n\u001b[0;32m   3077\u001b[0m     )\n\u001b[0;32m   3078\u001b[0m \u001b[38;5;28;01mfinally\u001b[39;00m:\n",
      "File \u001b[1;32mc:\\Users\\eirik\\anaconda3\\envs\\prosjektoppgave\\Lib\\site-packages\\IPython\\core\\interactiveshell.py:3130\u001b[0m, in \u001b[0;36m_run_cell\u001b[1;34m()\u001b[0m\n\u001b[0;32m   3129\u001b[0m \u001b[38;5;28;01mtry\u001b[39;00m:\n\u001b[1;32m-> 3130\u001b[0m     result \u001b[38;5;241m=\u001b[39m runner(coro)\n\u001b[0;32m   3131\u001b[0m \u001b[38;5;28;01mexcept\u001b[39;00m \u001b[38;5;167;01mBaseException\u001b[39;00m \u001b[38;5;28;01mas\u001b[39;00m e:\n",
      "File \u001b[1;32mc:\\Users\\eirik\\anaconda3\\envs\\prosjektoppgave\\Lib\\site-packages\\IPython\\core\\async_helpers.py:128\u001b[0m, in \u001b[0;36m_pseudo_sync_runner\u001b[1;34m()\u001b[0m\n\u001b[0;32m    127\u001b[0m \u001b[38;5;28;01mtry\u001b[39;00m:\n\u001b[1;32m--> 128\u001b[0m     coro\u001b[38;5;241m.\u001b[39msend(\u001b[38;5;28;01mNone\u001b[39;00m)\n\u001b[0;32m    129\u001b[0m \u001b[38;5;28;01mexcept\u001b[39;00m \u001b[38;5;167;01mStopIteration\u001b[39;00m \u001b[38;5;28;01mas\u001b[39;00m exc:\n",
      "File \u001b[1;32mc:\\Users\\eirik\\anaconda3\\envs\\prosjektoppgave\\Lib\\site-packages\\IPython\\core\\interactiveshell.py:3334\u001b[0m, in \u001b[0;36mrun_cell_async\u001b[1;34m()\u001b[0m\n\u001b[0;32m   3331\u001b[0m interactivity \u001b[38;5;241m=\u001b[39m \u001b[38;5;124m\"\u001b[39m\u001b[38;5;124mnone\u001b[39m\u001b[38;5;124m\"\u001b[39m \u001b[38;5;28;01mif\u001b[39;00m silent \u001b[38;5;28;01melse\u001b[39;00m \u001b[38;5;28mself\u001b[39m\u001b[38;5;241m.\u001b[39mast_node_interactivity\n\u001b[1;32m-> 3334\u001b[0m has_raised \u001b[38;5;241m=\u001b[39m \u001b[38;5;28;01mawait\u001b[39;00m \u001b[38;5;28mself\u001b[39m\u001b[38;5;241m.\u001b[39mrun_ast_nodes(code_ast\u001b[38;5;241m.\u001b[39mbody, cell_name,\n\u001b[0;32m   3335\u001b[0m        interactivity\u001b[38;5;241m=\u001b[39minteractivity, compiler\u001b[38;5;241m=\u001b[39mcompiler, result\u001b[38;5;241m=\u001b[39mresult)\n\u001b[0;32m   3337\u001b[0m \u001b[38;5;28mself\u001b[39m\u001b[38;5;241m.\u001b[39mlast_execution_succeeded \u001b[38;5;241m=\u001b[39m \u001b[38;5;129;01mnot\u001b[39;00m has_raised\n",
      "File \u001b[1;32mc:\\Users\\eirik\\anaconda3\\envs\\prosjektoppgave\\Lib\\site-packages\\IPython\\core\\interactiveshell.py:3517\u001b[0m, in \u001b[0;36mrun_ast_nodes\u001b[1;34m()\u001b[0m\n\u001b[0;32m   3516\u001b[0m     asy \u001b[38;5;241m=\u001b[39m compare(code)\n\u001b[1;32m-> 3517\u001b[0m \u001b[38;5;28;01mif\u001b[39;00m \u001b[38;5;28;01mawait\u001b[39;00m \u001b[38;5;28mself\u001b[39m\u001b[38;5;241m.\u001b[39mrun_code(code, result, async_\u001b[38;5;241m=\u001b[39masy):\n\u001b[0;32m   3518\u001b[0m     \u001b[38;5;28;01mreturn\u001b[39;00m \u001b[38;5;28;01mTrue\u001b[39;00m\n",
      "File \u001b[1;32mc:\\Users\\eirik\\anaconda3\\envs\\prosjektoppgave\\Lib\\site-packages\\IPython\\core\\interactiveshell.py:3577\u001b[0m, in \u001b[0;36mrun_code\u001b[1;34m()\u001b[0m\n\u001b[0;32m   3576\u001b[0m     \u001b[38;5;28;01melse\u001b[39;00m:\n\u001b[1;32m-> 3577\u001b[0m         exec(code_obj, \u001b[38;5;28mself\u001b[39m\u001b[38;5;241m.\u001b[39muser_global_ns, \u001b[38;5;28mself\u001b[39m\u001b[38;5;241m.\u001b[39muser_ns)\n\u001b[0;32m   3578\u001b[0m \u001b[38;5;28;01mfinally\u001b[39;00m:\n\u001b[0;32m   3579\u001b[0m     \u001b[38;5;66;03m# Reset our crash handler in place\u001b[39;00m\n",
      "Cell \u001b[1;32mIn[7], line 1\u001b[0m\n\u001b[1;32m----> 1\u001b[0m jac \u001b[38;5;241m=\u001b[39m jacrev(operator_net, \u001b[38;5;241m1\u001b[39m)(a_train_s[\u001b[38;5;241m0\u001b[39m], x_train_s, t_train_s)\n",
      "File \u001b[1;32mc:\\Users\\eirik\\OneDrive - NTNU\\5. klasse\\prosjektoppgave\\eirik_prosjektoppgave\\networks\\..\\networks\\fno_timestepping_2.py:161\u001b[0m, in \u001b[0;36m__call__\u001b[1;34m()\u001b[0m\n\u001b[0;32m    160\u001b[0m \u001b[38;5;28;01mdef\u001b[39;00m \u001b[38;5;21m__call__\u001b[39m(\u001b[38;5;28mself\u001b[39m,a,x,t):\n\u001b[1;32m--> 161\u001b[0m     \u001b[38;5;28;01mreturn\u001b[39;00m _call(\u001b[38;5;28mself\u001b[39m, a, x, t)\n",
      "\u001b[1;31mJaxStackTraceBeforeTransformation\u001b[0m: ValueError: Custom VJP bwd rule must produce an output with the same shape/dtypes as the args tuple of the primal function, but at output[0] the bwd rule produced an output of shape/dtype float64[64,64] corresponding to an input of shape/dtype float64[64].\n\nThe preceding stack trace is the source of the JAX operation that, once transformed by JAX, triggered the following exception.\n\n--------------------",
      "\nThe above exception was the direct cause of the following exception:\n",
      "\u001b[1;31mValueError\u001b[0m                                Traceback (most recent call last)",
      "Cell \u001b[1;32mIn[7], line 1\u001b[0m\n\u001b[1;32m----> 1\u001b[0m jac \u001b[38;5;241m=\u001b[39m \u001b[43mjacrev\u001b[49m\u001b[43m(\u001b[49m\u001b[43moperator_net\u001b[49m\u001b[43m,\u001b[49m\u001b[43m \u001b[49m\u001b[38;5;241;43m1\u001b[39;49m\u001b[43m)\u001b[49m\u001b[43m(\u001b[49m\u001b[43ma_train_s\u001b[49m\u001b[43m[\u001b[49m\u001b[38;5;241;43m0\u001b[39;49m\u001b[43m]\u001b[49m\u001b[43m,\u001b[49m\u001b[43m \u001b[49m\u001b[43mx_train_s\u001b[49m\u001b[43m,\u001b[49m\u001b[43m \u001b[49m\u001b[43mt_train_s\u001b[49m\u001b[43m)\u001b[49m\n",
      "File \u001b[1;32mc:\\Users\\eirik\\anaconda3\\envs\\prosjektoppgave\\Lib\\site-packages\\jax\\_src\\api.py:672\u001b[0m, in \u001b[0;36mjacrev.<locals>.jacfun\u001b[1;34m(*args, **kwargs)\u001b[0m\n\u001b[0;32m    670\u001b[0m   y, pullback, aux \u001b[38;5;241m=\u001b[39m _vjp(f_partial, \u001b[38;5;241m*\u001b[39mdyn_args, has_aux\u001b[38;5;241m=\u001b[39m\u001b[38;5;28;01mTrue\u001b[39;00m)\n\u001b[0;32m    671\u001b[0m tree_map(partial(_check_output_dtype_jacrev, holomorphic), y)\n\u001b[1;32m--> 672\u001b[0m jac \u001b[38;5;241m=\u001b[39m \u001b[43mvmap\u001b[49m\u001b[43m(\u001b[49m\u001b[43mpullback\u001b[49m\u001b[43m)\u001b[49m\u001b[43m(\u001b[49m\u001b[43m_std_basis\u001b[49m\u001b[43m(\u001b[49m\u001b[43my\u001b[49m\u001b[43m)\u001b[49m\u001b[43m)\u001b[49m\n\u001b[0;32m    673\u001b[0m jac \u001b[38;5;241m=\u001b[39m jac[\u001b[38;5;241m0\u001b[39m] \u001b[38;5;28;01mif\u001b[39;00m \u001b[38;5;28misinstance\u001b[39m(argnums, \u001b[38;5;28mint\u001b[39m) \u001b[38;5;28;01melse\u001b[39;00m jac\n\u001b[0;32m    674\u001b[0m example_args \u001b[38;5;241m=\u001b[39m dyn_args[\u001b[38;5;241m0\u001b[39m] \u001b[38;5;28;01mif\u001b[39;00m \u001b[38;5;28misinstance\u001b[39m(argnums, \u001b[38;5;28mint\u001b[39m) \u001b[38;5;28;01melse\u001b[39;00m dyn_args\n",
      "    \u001b[1;31m[... skipping hidden 11 frame]\u001b[0m\n",
      "File \u001b[1;32mc:\\Users\\eirik\\anaconda3\\envs\\prosjektoppgave\\Lib\\site-packages\\jax\\_src\\custom_derivatives.py:808\u001b[0m, in \u001b[0;36m_flatten_bwd\u001b[1;34m(in_tree, in_avals, out_trees, *args)\u001b[0m\n\u001b[0;32m    800\u001b[0m     \u001b[38;5;28;01mif\u001b[39;00m (\u001b[38;5;129;01mnot\u001b[39;00m core\u001b[38;5;241m.\u001b[39mtypecompat(a\u001b[38;5;241m.\u001b[39mto_tangent_aval(), a_ \u001b[38;5;241m:=\u001b[39m core\u001b[38;5;241m.\u001b[39mget_aval(ct))\n\u001b[0;32m    801\u001b[0m         \u001b[38;5;129;01mand\u001b[39;00m \u001b[38;5;129;01mnot\u001b[39;00m (_temporary_dtype_exception(a, a_) \u001b[38;5;129;01mor\u001b[39;00m\n\u001b[0;32m    802\u001b[0m                  _temporary_shape_exception(a, a_))):\n\u001b[0;32m    803\u001b[0m       msg \u001b[38;5;241m=\u001b[39m (\u001b[38;5;124m\"\u001b[39m\u001b[38;5;124mCustom VJP bwd rule must produce an output with the same \u001b[39m\u001b[38;5;124m\"\u001b[39m\n\u001b[0;32m    804\u001b[0m              \u001b[38;5;124m\"\u001b[39m\u001b[38;5;124mshape/dtypes as the args tuple of the primal function, but at \u001b[39m\u001b[38;5;124m\"\u001b[39m\n\u001b[0;32m    805\u001b[0m              \u001b[38;5;124mf\u001b[39m\u001b[38;5;124m\"\u001b[39m\u001b[38;5;124moutput\u001b[39m\u001b[38;5;132;01m{\u001b[39;00mkeystr(kp)\u001b[38;5;132;01m}\u001b[39;00m\u001b[38;5;124m the bwd rule produced an output of \u001b[39m\u001b[38;5;124m\"\u001b[39m\n\u001b[0;32m    806\u001b[0m              \u001b[38;5;124mf\u001b[39m\u001b[38;5;124m\"\u001b[39m\u001b[38;5;124mshape/dtype \u001b[39m\u001b[38;5;132;01m{\u001b[39;00mraise_to_shaped(a_)\u001b[38;5;241m.\u001b[39mstr_short()\u001b[38;5;132;01m}\u001b[39;00m\u001b[38;5;124m corresponding \u001b[39m\u001b[38;5;124m\"\u001b[39m\n\u001b[0;32m    807\u001b[0m              \u001b[38;5;124mf\u001b[39m\u001b[38;5;124m\"\u001b[39m\u001b[38;5;124mto an input of shape/dtype \u001b[39m\u001b[38;5;132;01m{\u001b[39;00ma\u001b[38;5;241m.\u001b[39mstr_short()\u001b[38;5;132;01m}\u001b[39;00m\u001b[38;5;124m.\u001b[39m\u001b[38;5;124m\"\u001b[39m)\n\u001b[1;32m--> 808\u001b[0m       \u001b[38;5;28;01mraise\u001b[39;00m \u001b[38;5;167;01mValueError\u001b[39;00m(msg)\n\u001b[0;32m    809\u001b[0m     results\u001b[38;5;241m.\u001b[39mappend(ct)\n\u001b[0;32m    810\u001b[0m \u001b[38;5;28;01myield\u001b[39;00m results\n",
      "\u001b[1;31mValueError\u001b[0m: Custom VJP bwd rule must produce an output with the same shape/dtypes as the args tuple of the primal function, but at output[0] the bwd rule produced an output of shape/dtype float64[64,64] corresponding to an input of shape/dtype float64[64]."
     ]
    }
   ],
   "source": [
    "jac = jacrev(operator_net, 1)(a_train_s[0], x_train_s, t_train_s)"
   ]
  },
  {
   "cell_type": "code",
   "execution_count": 6,
   "metadata": {},
   "outputs": [
    {
     "name": "stdout",
     "output_type": "stream",
     "text": [
      "Calling _call_fwd\n",
      "Calling _call_bwd\n",
      "(77, 64) (77, 64)\n"
     ]
    },
    {
     "ename": "ValueError",
     "evalue": "Custom VJP bwd rule must produce an output with the same shape/dtypes as the args tuple of the primal function, but at output[0] the bwd rule produced an output of shape/dtype float64[64,64] corresponding to an input of shape/dtype float64[64].",
     "output_type": "error",
     "traceback": [
      "\u001b[1;31m---------------------------------------------------------------------------\u001b[0m",
      "\u001b[1;31mJaxStackTraceBeforeTransformation\u001b[0m         Traceback (most recent call last)",
      "File \u001b[1;32m<frozen runpy>:198\u001b[0m, in \u001b[0;36m_run_module_as_main\u001b[1;34m()\u001b[0m\n",
      "File \u001b[1;32m<frozen runpy>:88\u001b[0m, in \u001b[0;36m_run_code\u001b[1;34m()\u001b[0m\n",
      "File \u001b[1;32mc:\\Users\\eirik\\anaconda3\\envs\\prosjektoppgave\\Lib\\site-packages\\ipykernel_launcher.py:18\u001b[0m\n\u001b[0;32m     16\u001b[0m \u001b[38;5;28;01mfrom\u001b[39;00m \u001b[38;5;21;01mipykernel\u001b[39;00m \u001b[38;5;28;01mimport\u001b[39;00m kernelapp \u001b[38;5;28;01mas\u001b[39;00m app\n\u001b[1;32m---> 18\u001b[0m app\u001b[38;5;241m.\u001b[39mlaunch_new_instance()\n",
      "File \u001b[1;32mc:\\Users\\eirik\\anaconda3\\envs\\prosjektoppgave\\Lib\\site-packages\\traitlets\\config\\application.py:1075\u001b[0m, in \u001b[0;36mlaunch_instance\u001b[1;34m()\u001b[0m\n\u001b[0;32m   1074\u001b[0m app\u001b[38;5;241m.\u001b[39minitialize(argv)\n\u001b[1;32m-> 1075\u001b[0m app\u001b[38;5;241m.\u001b[39mstart()\n",
      "File \u001b[1;32mc:\\Users\\eirik\\anaconda3\\envs\\prosjektoppgave\\Lib\\site-packages\\ipykernel\\kernelapp.py:739\u001b[0m, in \u001b[0;36mstart\u001b[1;34m()\u001b[0m\n\u001b[0;32m    738\u001b[0m \u001b[38;5;28;01mtry\u001b[39;00m:\n\u001b[1;32m--> 739\u001b[0m     \u001b[38;5;28mself\u001b[39m\u001b[38;5;241m.\u001b[39mio_loop\u001b[38;5;241m.\u001b[39mstart()\n\u001b[0;32m    740\u001b[0m \u001b[38;5;28;01mexcept\u001b[39;00m \u001b[38;5;167;01mKeyboardInterrupt\u001b[39;00m:\n",
      "File \u001b[1;32mc:\\Users\\eirik\\anaconda3\\envs\\prosjektoppgave\\Lib\\site-packages\\tornado\\platform\\asyncio.py:205\u001b[0m, in \u001b[0;36mstart\u001b[1;34m()\u001b[0m\n\u001b[0;32m    204\u001b[0m \u001b[38;5;28;01mdef\u001b[39;00m \u001b[38;5;21mstart\u001b[39m(\u001b[38;5;28mself\u001b[39m) \u001b[38;5;241m-\u001b[39m\u001b[38;5;241m>\u001b[39m \u001b[38;5;28;01mNone\u001b[39;00m:\n\u001b[1;32m--> 205\u001b[0m     \u001b[38;5;28mself\u001b[39m\u001b[38;5;241m.\u001b[39masyncio_loop\u001b[38;5;241m.\u001b[39mrun_forever()\n",
      "File \u001b[1;32mc:\\Users\\eirik\\anaconda3\\envs\\prosjektoppgave\\Lib\\asyncio\\base_events.py:641\u001b[0m, in \u001b[0;36mrun_forever\u001b[1;34m()\u001b[0m\n\u001b[0;32m    640\u001b[0m \u001b[38;5;28;01mwhile\u001b[39;00m \u001b[38;5;28;01mTrue\u001b[39;00m:\n\u001b[1;32m--> 641\u001b[0m     \u001b[38;5;28mself\u001b[39m\u001b[38;5;241m.\u001b[39m_run_once()\n\u001b[0;32m    642\u001b[0m     \u001b[38;5;28;01mif\u001b[39;00m \u001b[38;5;28mself\u001b[39m\u001b[38;5;241m.\u001b[39m_stopping:\n",
      "File \u001b[1;32mc:\\Users\\eirik\\anaconda3\\envs\\prosjektoppgave\\Lib\\asyncio\\base_events.py:1986\u001b[0m, in \u001b[0;36m_run_once\u001b[1;34m()\u001b[0m\n\u001b[0;32m   1985\u001b[0m     \u001b[38;5;28;01melse\u001b[39;00m:\n\u001b[1;32m-> 1986\u001b[0m         handle\u001b[38;5;241m.\u001b[39m_run()\n\u001b[0;32m   1987\u001b[0m handle \u001b[38;5;241m=\u001b[39m \u001b[38;5;28;01mNone\u001b[39;00m\n",
      "File \u001b[1;32mc:\\Users\\eirik\\anaconda3\\envs\\prosjektoppgave\\Lib\\asyncio\\events.py:88\u001b[0m, in \u001b[0;36m_run\u001b[1;34m()\u001b[0m\n\u001b[0;32m     87\u001b[0m \u001b[38;5;28;01mtry\u001b[39;00m:\n\u001b[1;32m---> 88\u001b[0m     \u001b[38;5;28mself\u001b[39m\u001b[38;5;241m.\u001b[39m_context\u001b[38;5;241m.\u001b[39mrun(\u001b[38;5;28mself\u001b[39m\u001b[38;5;241m.\u001b[39m_callback, \u001b[38;5;241m*\u001b[39m\u001b[38;5;28mself\u001b[39m\u001b[38;5;241m.\u001b[39m_args)\n\u001b[0;32m     89\u001b[0m \u001b[38;5;28;01mexcept\u001b[39;00m (\u001b[38;5;167;01mSystemExit\u001b[39;00m, \u001b[38;5;167;01mKeyboardInterrupt\u001b[39;00m):\n",
      "File \u001b[1;32mc:\\Users\\eirik\\anaconda3\\envs\\prosjektoppgave\\Lib\\site-packages\\ipykernel\\kernelbase.py:545\u001b[0m, in \u001b[0;36mdispatch_queue\u001b[1;34m()\u001b[0m\n\u001b[0;32m    544\u001b[0m \u001b[38;5;28;01mtry\u001b[39;00m:\n\u001b[1;32m--> 545\u001b[0m     \u001b[38;5;28;01mawait\u001b[39;00m \u001b[38;5;28mself\u001b[39m\u001b[38;5;241m.\u001b[39mprocess_one()\n\u001b[0;32m    546\u001b[0m \u001b[38;5;28;01mexcept\u001b[39;00m \u001b[38;5;167;01mException\u001b[39;00m:\n",
      "File \u001b[1;32mc:\\Users\\eirik\\anaconda3\\envs\\prosjektoppgave\\Lib\\site-packages\\ipykernel\\kernelbase.py:534\u001b[0m, in \u001b[0;36mprocess_one\u001b[1;34m()\u001b[0m\n\u001b[0;32m    533\u001b[0m         \u001b[38;5;28;01mreturn\u001b[39;00m\n\u001b[1;32m--> 534\u001b[0m \u001b[38;5;28;01mawait\u001b[39;00m dispatch(\u001b[38;5;241m*\u001b[39margs)\n",
      "File \u001b[1;32mc:\\Users\\eirik\\anaconda3\\envs\\prosjektoppgave\\Lib\\site-packages\\ipykernel\\kernelbase.py:437\u001b[0m, in \u001b[0;36mdispatch_shell\u001b[1;34m()\u001b[0m\n\u001b[0;32m    436\u001b[0m     \u001b[38;5;28;01mif\u001b[39;00m inspect\u001b[38;5;241m.\u001b[39misawaitable(result):\n\u001b[1;32m--> 437\u001b[0m         \u001b[38;5;28;01mawait\u001b[39;00m result\n\u001b[0;32m    438\u001b[0m \u001b[38;5;28;01mexcept\u001b[39;00m \u001b[38;5;167;01mException\u001b[39;00m:\n",
      "File \u001b[1;32mc:\\Users\\eirik\\anaconda3\\envs\\prosjektoppgave\\Lib\\site-packages\\ipykernel\\ipkernel.py:362\u001b[0m, in \u001b[0;36mexecute_request\u001b[1;34m()\u001b[0m\n\u001b[0;32m    361\u001b[0m \u001b[38;5;28mself\u001b[39m\u001b[38;5;241m.\u001b[39m_associate_new_top_level_threads_with(parent_header)\n\u001b[1;32m--> 362\u001b[0m \u001b[38;5;28;01mawait\u001b[39;00m \u001b[38;5;28msuper\u001b[39m()\u001b[38;5;241m.\u001b[39mexecute_request(stream, ident, parent)\n",
      "File \u001b[1;32mc:\\Users\\eirik\\anaconda3\\envs\\prosjektoppgave\\Lib\\site-packages\\ipykernel\\kernelbase.py:778\u001b[0m, in \u001b[0;36mexecute_request\u001b[1;34m()\u001b[0m\n\u001b[0;32m    777\u001b[0m \u001b[38;5;28;01mif\u001b[39;00m inspect\u001b[38;5;241m.\u001b[39misawaitable(reply_content):\n\u001b[1;32m--> 778\u001b[0m     reply_content \u001b[38;5;241m=\u001b[39m \u001b[38;5;28;01mawait\u001b[39;00m reply_content\n\u001b[0;32m    780\u001b[0m \u001b[38;5;66;03m# Flush output before sending the reply.\u001b[39;00m\n",
      "File \u001b[1;32mc:\\Users\\eirik\\anaconda3\\envs\\prosjektoppgave\\Lib\\site-packages\\ipykernel\\ipkernel.py:449\u001b[0m, in \u001b[0;36mdo_execute\u001b[1;34m()\u001b[0m\n\u001b[0;32m    448\u001b[0m \u001b[38;5;28;01mif\u001b[39;00m accepts_params[\u001b[38;5;124m\"\u001b[39m\u001b[38;5;124mcell_id\u001b[39m\u001b[38;5;124m\"\u001b[39m]:\n\u001b[1;32m--> 449\u001b[0m     res \u001b[38;5;241m=\u001b[39m shell\u001b[38;5;241m.\u001b[39mrun_cell(\n\u001b[0;32m    450\u001b[0m         code,\n\u001b[0;32m    451\u001b[0m         store_history\u001b[38;5;241m=\u001b[39mstore_history,\n\u001b[0;32m    452\u001b[0m         silent\u001b[38;5;241m=\u001b[39msilent,\n\u001b[0;32m    453\u001b[0m         cell_id\u001b[38;5;241m=\u001b[39mcell_id,\n\u001b[0;32m    454\u001b[0m     )\n\u001b[0;32m    455\u001b[0m \u001b[38;5;28;01melse\u001b[39;00m:\n",
      "File \u001b[1;32mc:\\Users\\eirik\\anaconda3\\envs\\prosjektoppgave\\Lib\\site-packages\\ipykernel\\zmqshell.py:549\u001b[0m, in \u001b[0;36mrun_cell\u001b[1;34m()\u001b[0m\n\u001b[0;32m    548\u001b[0m \u001b[38;5;28mself\u001b[39m\u001b[38;5;241m.\u001b[39m_last_traceback \u001b[38;5;241m=\u001b[39m \u001b[38;5;28;01mNone\u001b[39;00m\n\u001b[1;32m--> 549\u001b[0m \u001b[38;5;28;01mreturn\u001b[39;00m \u001b[38;5;28msuper\u001b[39m()\u001b[38;5;241m.\u001b[39mrun_cell(\u001b[38;5;241m*\u001b[39margs, \u001b[38;5;241m*\u001b[39m\u001b[38;5;241m*\u001b[39mkwargs)\n",
      "File \u001b[1;32mc:\\Users\\eirik\\anaconda3\\envs\\prosjektoppgave\\Lib\\site-packages\\IPython\\core\\interactiveshell.py:3075\u001b[0m, in \u001b[0;36mrun_cell\u001b[1;34m()\u001b[0m\n\u001b[0;32m   3074\u001b[0m \u001b[38;5;28;01mtry\u001b[39;00m:\n\u001b[1;32m-> 3075\u001b[0m     result \u001b[38;5;241m=\u001b[39m \u001b[38;5;28mself\u001b[39m\u001b[38;5;241m.\u001b[39m_run_cell(\n\u001b[0;32m   3076\u001b[0m         raw_cell, store_history, silent, shell_futures, cell_id\n\u001b[0;32m   3077\u001b[0m     )\n\u001b[0;32m   3078\u001b[0m \u001b[38;5;28;01mfinally\u001b[39;00m:\n",
      "File \u001b[1;32mc:\\Users\\eirik\\anaconda3\\envs\\prosjektoppgave\\Lib\\site-packages\\IPython\\core\\interactiveshell.py:3130\u001b[0m, in \u001b[0;36m_run_cell\u001b[1;34m()\u001b[0m\n\u001b[0;32m   3129\u001b[0m \u001b[38;5;28;01mtry\u001b[39;00m:\n\u001b[1;32m-> 3130\u001b[0m     result \u001b[38;5;241m=\u001b[39m runner(coro)\n\u001b[0;32m   3131\u001b[0m \u001b[38;5;28;01mexcept\u001b[39;00m \u001b[38;5;167;01mBaseException\u001b[39;00m \u001b[38;5;28;01mas\u001b[39;00m e:\n",
      "File \u001b[1;32mc:\\Users\\eirik\\anaconda3\\envs\\prosjektoppgave\\Lib\\site-packages\\IPython\\core\\async_helpers.py:128\u001b[0m, in \u001b[0;36m_pseudo_sync_runner\u001b[1;34m()\u001b[0m\n\u001b[0;32m    127\u001b[0m \u001b[38;5;28;01mtry\u001b[39;00m:\n\u001b[1;32m--> 128\u001b[0m     coro\u001b[38;5;241m.\u001b[39msend(\u001b[38;5;28;01mNone\u001b[39;00m)\n\u001b[0;32m    129\u001b[0m \u001b[38;5;28;01mexcept\u001b[39;00m \u001b[38;5;167;01mStopIteration\u001b[39;00m \u001b[38;5;28;01mas\u001b[39;00m exc:\n",
      "File \u001b[1;32mc:\\Users\\eirik\\anaconda3\\envs\\prosjektoppgave\\Lib\\site-packages\\IPython\\core\\interactiveshell.py:3334\u001b[0m, in \u001b[0;36mrun_cell_async\u001b[1;34m()\u001b[0m\n\u001b[0;32m   3331\u001b[0m interactivity \u001b[38;5;241m=\u001b[39m \u001b[38;5;124m\"\u001b[39m\u001b[38;5;124mnone\u001b[39m\u001b[38;5;124m\"\u001b[39m \u001b[38;5;28;01mif\u001b[39;00m silent \u001b[38;5;28;01melse\u001b[39;00m \u001b[38;5;28mself\u001b[39m\u001b[38;5;241m.\u001b[39mast_node_interactivity\n\u001b[1;32m-> 3334\u001b[0m has_raised \u001b[38;5;241m=\u001b[39m \u001b[38;5;28;01mawait\u001b[39;00m \u001b[38;5;28mself\u001b[39m\u001b[38;5;241m.\u001b[39mrun_ast_nodes(code_ast\u001b[38;5;241m.\u001b[39mbody, cell_name,\n\u001b[0;32m   3335\u001b[0m        interactivity\u001b[38;5;241m=\u001b[39minteractivity, compiler\u001b[38;5;241m=\u001b[39mcompiler, result\u001b[38;5;241m=\u001b[39mresult)\n\u001b[0;32m   3337\u001b[0m \u001b[38;5;28mself\u001b[39m\u001b[38;5;241m.\u001b[39mlast_execution_succeeded \u001b[38;5;241m=\u001b[39m \u001b[38;5;129;01mnot\u001b[39;00m has_raised\n",
      "File \u001b[1;32mc:\\Users\\eirik\\anaconda3\\envs\\prosjektoppgave\\Lib\\site-packages\\IPython\\core\\interactiveshell.py:3517\u001b[0m, in \u001b[0;36mrun_ast_nodes\u001b[1;34m()\u001b[0m\n\u001b[0;32m   3516\u001b[0m     asy \u001b[38;5;241m=\u001b[39m compare(code)\n\u001b[1;32m-> 3517\u001b[0m \u001b[38;5;28;01mif\u001b[39;00m \u001b[38;5;28;01mawait\u001b[39;00m \u001b[38;5;28mself\u001b[39m\u001b[38;5;241m.\u001b[39mrun_code(code, result, async_\u001b[38;5;241m=\u001b[39masy):\n\u001b[0;32m   3518\u001b[0m     \u001b[38;5;28;01mreturn\u001b[39;00m \u001b[38;5;28;01mTrue\u001b[39;00m\n",
      "File \u001b[1;32mc:\\Users\\eirik\\anaconda3\\envs\\prosjektoppgave\\Lib\\site-packages\\IPython\\core\\interactiveshell.py:3577\u001b[0m, in \u001b[0;36mrun_code\u001b[1;34m()\u001b[0m\n\u001b[0;32m   3576\u001b[0m     \u001b[38;5;28;01melse\u001b[39;00m:\n\u001b[1;32m-> 3577\u001b[0m         exec(code_obj, \u001b[38;5;28mself\u001b[39m\u001b[38;5;241m.\u001b[39muser_global_ns, \u001b[38;5;28mself\u001b[39m\u001b[38;5;241m.\u001b[39muser_ns)\n\u001b[0;32m   3578\u001b[0m \u001b[38;5;28;01mfinally\u001b[39;00m:\n\u001b[0;32m   3579\u001b[0m     \u001b[38;5;66;03m# Reset our crash handler in place\u001b[39;00m\n",
      "Cell \u001b[1;32mIn[6], line 1\u001b[0m\n\u001b[1;32m----> 1\u001b[0m grad(\u001b[38;5;28;01mlambda\u001b[39;00m x : jnp\u001b[38;5;241m.\u001b[39msum(operator_net(a_train_s[\u001b[38;5;241m0\u001b[39m], x, t_train_s)))(x_train_s)\n",
      "Cell \u001b[1;32mIn[6], line 1\u001b[0m, in \u001b[0;36m<lambda>\u001b[1;34m()\u001b[0m\n\u001b[1;32m----> 1\u001b[0m grad(\u001b[38;5;28;01mlambda\u001b[39;00m x : jnp\u001b[38;5;241m.\u001b[39msum(operator_net(a_train_s[\u001b[38;5;241m0\u001b[39m], x, t_train_s)))(x_train_s)\n",
      "File \u001b[1;32mc:\\Users\\eirik\\OneDrive - NTNU\\5. klasse\\prosjektoppgave\\eirik_prosjektoppgave\\networks\\..\\networks\\fno_timestepping_2.py:161\u001b[0m, in \u001b[0;36m__call__\u001b[1;34m()\u001b[0m\n\u001b[0;32m    160\u001b[0m \u001b[38;5;28;01mdef\u001b[39;00m \u001b[38;5;21m__call__\u001b[39m(\u001b[38;5;28mself\u001b[39m,a,x,t):\n\u001b[1;32m--> 161\u001b[0m     \u001b[38;5;28;01mreturn\u001b[39;00m _call(\u001b[38;5;28mself\u001b[39m, a, x, t)\n",
      "\u001b[1;31mJaxStackTraceBeforeTransformation\u001b[0m: ValueError: Custom VJP bwd rule must produce an output with the same shape/dtypes as the args tuple of the primal function, but at output[0] the bwd rule produced an output of shape/dtype float64[64,64] corresponding to an input of shape/dtype float64[64].\n\nThe preceding stack trace is the source of the JAX operation that, once transformed by JAX, triggered the following exception.\n\n--------------------",
      "\nThe above exception was the direct cause of the following exception:\n",
      "\u001b[1;31mValueError\u001b[0m                                Traceback (most recent call last)",
      "Cell \u001b[1;32mIn[6], line 1\u001b[0m\n\u001b[1;32m----> 1\u001b[0m \u001b[43mgrad\u001b[49m\u001b[43m(\u001b[49m\u001b[38;5;28;43;01mlambda\u001b[39;49;00m\u001b[43m \u001b[49m\u001b[43mx\u001b[49m\u001b[43m \u001b[49m\u001b[43m:\u001b[49m\u001b[43m \u001b[49m\u001b[43mjnp\u001b[49m\u001b[38;5;241;43m.\u001b[39;49m\u001b[43msum\u001b[49m\u001b[43m(\u001b[49m\u001b[43moperator_net\u001b[49m\u001b[43m(\u001b[49m\u001b[43ma_train_s\u001b[49m\u001b[43m[\u001b[49m\u001b[38;5;241;43m0\u001b[39;49m\u001b[43m]\u001b[49m\u001b[43m,\u001b[49m\u001b[43m \u001b[49m\u001b[43mx\u001b[49m\u001b[43m,\u001b[49m\u001b[43m \u001b[49m\u001b[43mt_train_s\u001b[49m\u001b[43m)\u001b[49m\u001b[43m)\u001b[49m\u001b[43m)\u001b[49m\u001b[43m(\u001b[49m\u001b[43mx_train_s\u001b[49m\u001b[43m)\u001b[49m\n",
      "    \u001b[1;31m[... skipping hidden 12 frame]\u001b[0m\n",
      "File \u001b[1;32mc:\\Users\\eirik\\anaconda3\\envs\\prosjektoppgave\\Lib\\site-packages\\jax\\_src\\custom_derivatives.py:808\u001b[0m, in \u001b[0;36m_flatten_bwd\u001b[1;34m(in_tree, in_avals, out_trees, *args)\u001b[0m\n\u001b[0;32m    800\u001b[0m     \u001b[38;5;28;01mif\u001b[39;00m (\u001b[38;5;129;01mnot\u001b[39;00m core\u001b[38;5;241m.\u001b[39mtypecompat(a\u001b[38;5;241m.\u001b[39mto_tangent_aval(), a_ \u001b[38;5;241m:=\u001b[39m core\u001b[38;5;241m.\u001b[39mget_aval(ct))\n\u001b[0;32m    801\u001b[0m         \u001b[38;5;129;01mand\u001b[39;00m \u001b[38;5;129;01mnot\u001b[39;00m (_temporary_dtype_exception(a, a_) \u001b[38;5;129;01mor\u001b[39;00m\n\u001b[0;32m    802\u001b[0m                  _temporary_shape_exception(a, a_))):\n\u001b[0;32m    803\u001b[0m       msg \u001b[38;5;241m=\u001b[39m (\u001b[38;5;124m\"\u001b[39m\u001b[38;5;124mCustom VJP bwd rule must produce an output with the same \u001b[39m\u001b[38;5;124m\"\u001b[39m\n\u001b[0;32m    804\u001b[0m              \u001b[38;5;124m\"\u001b[39m\u001b[38;5;124mshape/dtypes as the args tuple of the primal function, but at \u001b[39m\u001b[38;5;124m\"\u001b[39m\n\u001b[0;32m    805\u001b[0m              \u001b[38;5;124mf\u001b[39m\u001b[38;5;124m\"\u001b[39m\u001b[38;5;124moutput\u001b[39m\u001b[38;5;132;01m{\u001b[39;00mkeystr(kp)\u001b[38;5;132;01m}\u001b[39;00m\u001b[38;5;124m the bwd rule produced an output of \u001b[39m\u001b[38;5;124m\"\u001b[39m\n\u001b[0;32m    806\u001b[0m              \u001b[38;5;124mf\u001b[39m\u001b[38;5;124m\"\u001b[39m\u001b[38;5;124mshape/dtype \u001b[39m\u001b[38;5;132;01m{\u001b[39;00mraise_to_shaped(a_)\u001b[38;5;241m.\u001b[39mstr_short()\u001b[38;5;132;01m}\u001b[39;00m\u001b[38;5;124m corresponding \u001b[39m\u001b[38;5;124m\"\u001b[39m\n\u001b[0;32m    807\u001b[0m              \u001b[38;5;124mf\u001b[39m\u001b[38;5;124m\"\u001b[39m\u001b[38;5;124mto an input of shape/dtype \u001b[39m\u001b[38;5;132;01m{\u001b[39;00ma\u001b[38;5;241m.\u001b[39mstr_short()\u001b[38;5;132;01m}\u001b[39;00m\u001b[38;5;124m.\u001b[39m\u001b[38;5;124m\"\u001b[39m)\n\u001b[1;32m--> 808\u001b[0m       \u001b[38;5;28;01mraise\u001b[39;00m \u001b[38;5;167;01mValueError\u001b[39;00m(msg)\n\u001b[0;32m    809\u001b[0m     results\u001b[38;5;241m.\u001b[39mappend(ct)\n\u001b[0;32m    810\u001b[0m \u001b[38;5;28;01myield\u001b[39;00m results\n",
      "\u001b[1;31mValueError\u001b[0m: Custom VJP bwd rule must produce an output with the same shape/dtypes as the args tuple of the primal function, but at output[0] the bwd rule produced an output of shape/dtype float64[64,64] corresponding to an input of shape/dtype float64[64]."
     ]
    }
   ],
   "source": [
    "grad(lambda x : jnp.sum(operator_net(a_train_s[0], x, t_train_s)))(x_train_s)"
   ]
  },
  {
   "cell_type": "code",
   "execution_count": null,
   "metadata": {},
   "outputs": [
    {
     "ename": "TypeError",
     "evalue": "differentiating with respect to argnums=1 requires at least 2 positional arguments to be passed by the caller, but got only 1 positional arguments.",
     "output_type": "error",
     "traceback": [
      "\u001b[1;31m---------------------------------------------------------------------------\u001b[0m",
      "\u001b[1;31mTypeError\u001b[0m                                 Traceback (most recent call last)",
      "Cell \u001b[1;32mIn[11], line 1\u001b[0m\n\u001b[1;32m----> 1\u001b[0m plt\u001b[38;5;241m.\u001b[39mimshow(\u001b[43mgrad\u001b[49m\u001b[43m(\u001b[49m\u001b[38;5;28;43;01mlambda\u001b[39;49;00m\u001b[43m \u001b[49m\u001b[43mx\u001b[49m\u001b[43m \u001b[49m\u001b[43m:\u001b[49m\u001b[43m \u001b[49m\u001b[43mjnp\u001b[49m\u001b[38;5;241;43m.\u001b[39;49m\u001b[43msum\u001b[49m\u001b[43m(\u001b[49m\u001b[43moperator_net\u001b[49m\u001b[43m(\u001b[49m\u001b[43ma_train_s\u001b[49m\u001b[43m[\u001b[49m\u001b[38;5;241;43m0\u001b[39;49m\u001b[43m]\u001b[49m\u001b[43m,\u001b[49m\u001b[43m \u001b[49m\u001b[43mx\u001b[49m\u001b[43m,\u001b[49m\u001b[43m \u001b[49m\u001b[43mt_train_s\u001b[49m\u001b[43m)\u001b[49m\u001b[43m)\u001b[49m\u001b[43m,\u001b[49m\u001b[43m \u001b[49m\u001b[38;5;241;43m1\u001b[39;49m\u001b[43m)\u001b[49m\u001b[43m(\u001b[49m\u001b[43mx_train_s\u001b[49m\u001b[43m)\u001b[49m)\n\u001b[0;32m      2\u001b[0m plt\u001b[38;5;241m.\u001b[39mcolorbar()\n",
      "    \u001b[1;31m[... skipping hidden 3 frame]\u001b[0m\n",
      "File \u001b[1;32mc:\\Users\\eirik\\anaconda3\\envs\\prosjektoppgave\\Lib\\site-packages\\jax\\_src\\api.py:452\u001b[0m, in \u001b[0;36mvalue_and_grad.<locals>.value_and_grad_f\u001b[1;34m(*args, **kwargs)\u001b[0m\n\u001b[0;32m    450\u001b[0m max_argnum \u001b[38;5;241m=\u001b[39m argnums \u001b[38;5;28;01mif\u001b[39;00m \u001b[38;5;28misinstance\u001b[39m(argnums, \u001b[38;5;28mint\u001b[39m) \u001b[38;5;28;01melse\u001b[39;00m \u001b[38;5;28mmax\u001b[39m(argnums)\n\u001b[0;32m    451\u001b[0m \u001b[38;5;28;01mif\u001b[39;00m max_argnum \u001b[38;5;241m>\u001b[39m\u001b[38;5;241m=\u001b[39m \u001b[38;5;28mlen\u001b[39m(args):\n\u001b[1;32m--> 452\u001b[0m   \u001b[38;5;28;01mraise\u001b[39;00m \u001b[38;5;167;01mTypeError\u001b[39;00m(\u001b[38;5;124mf\u001b[39m\u001b[38;5;124m\"\u001b[39m\u001b[38;5;124mdifferentiating with respect to \u001b[39m\u001b[38;5;132;01m{\u001b[39;00margnums\u001b[38;5;132;01m=}\u001b[39;00m\u001b[38;5;124m requires at least \u001b[39m\u001b[38;5;124m\"\u001b[39m\n\u001b[0;32m    453\u001b[0m                   \u001b[38;5;124mf\u001b[39m\u001b[38;5;124m\"\u001b[39m\u001b[38;5;132;01m{\u001b[39;00mmax_argnum\u001b[38;5;250m \u001b[39m\u001b[38;5;241m+\u001b[39m\u001b[38;5;250m \u001b[39m\u001b[38;5;241m1\u001b[39m\u001b[38;5;132;01m}\u001b[39;00m\u001b[38;5;124m positional arguments to be passed by the caller, \u001b[39m\u001b[38;5;124m\"\u001b[39m\n\u001b[0;32m    454\u001b[0m                   \u001b[38;5;124mf\u001b[39m\u001b[38;5;124m\"\u001b[39m\u001b[38;5;124mbut got only \u001b[39m\u001b[38;5;132;01m{\u001b[39;00m\u001b[38;5;28mlen\u001b[39m(args)\u001b[38;5;132;01m}\u001b[39;00m\u001b[38;5;124m positional arguments.\u001b[39m\u001b[38;5;124m\"\u001b[39m)\n\u001b[0;32m    456\u001b[0m f \u001b[38;5;241m=\u001b[39m lu\u001b[38;5;241m.\u001b[39mwrap_init(fun, kwargs)\n\u001b[0;32m    457\u001b[0m f_partial, dyn_args \u001b[38;5;241m=\u001b[39m argnums_partial(f, argnums, args,\n\u001b[0;32m    458\u001b[0m                                       require_static_args_hashable\u001b[38;5;241m=\u001b[39m\u001b[38;5;28;01mFalse\u001b[39;00m)\n",
      "\u001b[1;31mTypeError\u001b[0m: differentiating with respect to argnums=1 requires at least 2 positional arguments to be passed by the caller, but got only 1 positional arguments."
     ]
    }
   ],
   "source": [
    "plt.imshow(grad(lambda x : jnp.sum(operator_net(a_train_s[0], x, t_train_s)))(x_train_s))\n",
    "plt.colorbar()"
   ]
  },
  {
   "cell_type": "code",
   "execution_count": 12,
   "metadata": {},
   "outputs": [],
   "source": [
    "from jax import custom_vjp"
   ]
  },
  {
   "cell_type": "code",
   "execution_count": 13,
   "metadata": {},
   "outputs": [],
   "source": [
    "@custom_vjp\n",
    "def f(x,y):\n",
    "  print(\"called f!\")\n",
    "  return jnp.sin(x)\n",
    "\n",
    "def f_fwd(x):\n",
    "  print(\"called f_fwd!\")\n",
    "  return f(x), jnp.cos(x)\n",
    "\n",
    "def f_bwd(cos_x, y_bar):\n",
    "  print(\"called f_bwd!\")\n",
    "  return (cos_x * y_bar,)\n",
    "\n",
    "f.defvjp(f_fwd, f_bwd)"
   ]
  },
  {
   "cell_type": "code",
   "execution_count": 15,
   "metadata": {},
   "outputs": [
    {
     "name": "stdout",
     "output_type": "stream",
     "text": [
      "called f_fwd!\n",
      "called f!\n",
      "called f_bwd!\n"
     ]
    },
    {
     "data": {
      "text/plain": [
       "Array(-0.9899925, dtype=float64, weak_type=True)"
      ]
     },
     "execution_count": 15,
     "metadata": {},
     "output_type": "execute_result"
    }
   ],
   "source": [
    "grad(f)(3.0)"
   ]
  },
  {
   "cell_type": "code",
   "execution_count": 7,
   "metadata": {},
   "outputs": [
    {
     "data": {
      "text/plain": [
       "Array([[-1.80643006e-03,  2.39393064e-03, -4.44354239e-02, ...,\n",
       "        -4.10217207e-01, -6.57032976e-02,  2.79321206e-03],\n",
       "       [ 7.40632766e-04,  5.68877518e-04, -2.15252568e-02, ...,\n",
       "        -2.98686882e-01, -4.92696199e-02,  1.35382505e-02],\n",
       "       [-3.07513204e-04,  4.02039349e-03,  1.21845704e-01, ...,\n",
       "        -2.03359287e-01, -8.13843012e-02, -9.08704960e-03],\n",
       "       ...,\n",
       "       [-4.65093808e-02, -5.98975685e-02, -6.15929016e-02, ...,\n",
       "        -2.85561838e-02, -2.31480002e-02, -3.07789378e-02],\n",
       "       [-4.65107457e-02, -5.98973406e-02, -6.15906867e-02, ...,\n",
       "        -2.85558960e-02, -2.31483265e-02, -3.07801151e-02],\n",
       "       [-4.65120516e-02, -5.98973938e-02, -6.15889383e-02, ...,\n",
       "        -2.85555511e-02, -2.31484557e-02, -3.07809725e-02]],      dtype=float64)"
      ]
     },
     "execution_count": 7,
     "metadata": {},
     "output_type": "execute_result"
    }
   ],
   "source": [
    "model(a_train_s[0], x_train_s, t_train_s)"
   ]
  },
  {
   "cell_type": "code",
   "execution_count": 7,
   "metadata": {},
   "outputs": [
    {
     "name": "stdout",
     "output_type": "stream",
     "text": [
      "[4 3 7]\n"
     ]
    }
   ],
   "source": [
    "import jax.numpy as jnp\n",
    "from jax import lax\n",
    "\n",
    "xs = jnp.array([1, 2, 3])\n",
    "ys = jnp.array([3, 1, 4])\n",
    "\n",
    "def scanned_fun(_, pair):\n",
    "  x, y = pair\n",
    "  return None, (x + y, (x, y))\n",
    "\n",
    "_, (zs, xs) = lax.scan(scanned_fun, None, (xs, ys))\n",
    "print(zs)  # [4, 3, 7]"
   ]
  },
  {
   "cell_type": "code",
   "execution_count": null,
   "metadata": {},
   "outputs": [],
   "source": []
  }
 ],
 "metadata": {
  "kernelspec": {
   "display_name": "prosjektoppgave",
   "language": "python",
   "name": "python3"
  },
  "language_info": {
   "codemirror_mode": {
    "name": "ipython",
    "version": 3
   },
   "file_extension": ".py",
   "mimetype": "text/x-python",
   "name": "python",
   "nbconvert_exporter": "python",
   "pygments_lexer": "ipython3",
   "version": "3.12.5"
  }
 },
 "nbformat": 4,
 "nbformat_minor": 2
}
