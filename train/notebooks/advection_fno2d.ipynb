{
 "cells": [
  {
   "cell_type": "code",
   "execution_count": 30,
   "metadata": {},
   "outputs": [],
   "source": [
    "import jax\n",
    "import equinox as eqx\n",
    "import jax.numpy as jnp\n",
    "from jax import random\n",
    "import optax \n",
    "from jax import vmap\n",
    "import jax_dataloader as jdl\n",
    "from dataclasses import dataclass\n",
    "import optuna\n",
    "import matplotlib.pyplot as plt\n",
    "optuna.logging.set_verbosity(optuna.logging.WARNING)\n",
    "jax.config.update(\"jax_enable_x64\", True)\n",
    "\n",
    "import sys\n",
    "sys.path.append(\"..\")\n",
    "from networks import *\n",
    "from utils import *"
   ]
  },
  {
   "cell_type": "code",
   "execution_count": 31,
   "metadata": {},
   "outputs": [],
   "source": [
    "JAX_LOG_COMPILES = 1"
   ]
  },
  {
   "cell_type": "code",
   "execution_count": 32,
   "metadata": {},
   "outputs": [],
   "source": [
    "from networks import _self_adaptive\n",
    "\n",
    "sa_hparams = _self_adaptive.SAHparams()"
   ]
  },
  {
   "cell_type": "markdown",
   "metadata": {},
   "source": [
    "# Load data"
   ]
  },
  {
   "cell_type": "code",
   "execution_count": 44,
   "metadata": {},
   "outputs": [],
   "source": [
    "data = jnp.load(\"../data/advection.npz\")\n",
    "x = jnp.array(data['x'])\n",
    "t = jnp.array(data['t'])\n",
    "a_train = jnp.array(data['a_train'])\n",
    "u_train = jnp.array(data['u_train'])\n",
    "a_val = jnp.array(data['a_val'])\n",
    "u_val = jnp.array(data['u_val'])\n",
    "a_test = jnp.array(data['a_test'])\n",
    "u_test = jnp.array(data['u_test'])\n",
    "\n",
    "P = x[-1]\n",
    "T = t[-1]\n",
    "M = len(x) - 1\n",
    "N = len(t) - 1\n",
    "NUMBER_OF_SENSORS = M + 1\n",
    "N = len(t)-1\n",
    "NUMBER_OF_SENSORS = M+1\n",
    "PATH = r\"C:\\Users\\eirik\\orbax\""
   ]
  },
  {
   "cell_type": "markdown",
   "metadata": {},
   "source": [
    "# Normalize data"
   ]
  },
  {
   "cell_type": "code",
   "execution_count": 51,
   "metadata": {},
   "outputs": [],
   "source": [
    "u_normalizer = UnitGaussianNormalizer(u_train)\n",
    "a_normalizer = UnitGaussianNormalizer(a_train)\n",
    "x_normalizer = UnitGaussianNormalizer(x)\n",
    "t_normalizer = UnitGaussianNormalizer(t)\n",
    "\n",
    "u_train_n = u_normalizer.encode(u_train)\n",
    "a_train_n = a_normalizer.encode(a_train)\n",
    "\n",
    "u_val_n = u_normalizer.encode(u_val)\n",
    "a_val_n = a_normalizer.encode(a_val)\n",
    "\n",
    "x_n = x_normalizer.encode(x)\n",
    "t_n = t_normalizer.encode(t)"
   ]
  },
  {
   "cell_type": "markdown",
   "metadata": {},
   "source": [
    "# Define loss function"
   ]
  },
  {
   "cell_type": "code",
   "execution_count": 52,
   "metadata": {},
   "outputs": [],
   "source": [
    "def compute_loss(model, a, u, key):\n",
    "    \"\"\"Computes the loss of the model.\n",
    "    \"\"\"\n",
    "    u_shape = u.shape\n",
    "    batch_size = u_shape[0]\n",
    "    N = u_shape[1]-1\n",
    "    M = u_shape[2]-1\n",
    "    num_points = 25\n",
    "    \n",
    "    x_key, t_key = random.split(key)\n",
    "    x_keys = random.split(x_key, batch_size)\n",
    "    t_keys = random.split(t_key, batch_size)\n",
    "    \n",
    "    a_rand =  a[:,::4] #vmap(lambda key, row: jnp.sort(random.choice(key, row, shape=(num_points,), replace=True)))(x_keys, a)\n",
    "    x_rand = x[::4] #vmap(lambda key: jnp.sort(random.choice(key, x, shape=(num_points,), replace=True)))(x_keys)\n",
    "    t_rand = t[::4] #vmap(lambda key: jnp.sort(random.choice(key, t, shape=(num_points,), replace=True)))(t_keys)\n",
    "    u_rand = u[:,::4, ::4]\n",
    "    \n",
    "    u_pred = vmap(model, (0, None, None))(a_rand, x_rand, t_rand)\n",
    "    \n",
    "    if model.self_adaptive:\n",
    "        loss = jnp.mean(jnp.square(u_pred - u_rand)) #MSE\n",
    "       \n",
    "    else:\n",
    "        loss = jnp.mean(jnp.square(u_pred - u_rand))\n",
    "\n",
    "    return loss\n",
    "\n",
    "Trainer.compute_loss = staticmethod(compute_loss)"
   ]
  },
  {
   "cell_type": "markdown",
   "metadata": {},
   "source": [
    "# Define make step function"
   ]
  },
  {
   "cell_type": "code",
   "execution_count": 53,
   "metadata": {},
   "outputs": [],
   "source": [
    "@eqx.filter_jit\n",
    "def make_step(model, opt_state, opt, a, u, key):\n",
    "    \"\"\"Performs a single optimization step.\"\"\"\n",
    "\n",
    "    loss, grads = eqx.filter_value_and_grad(Trainer.compute_loss)(model, a, u, key)\n",
    "    updates, opt_state = opt.update([grads], opt_state)\n",
    "    model = eqx.apply_updates(model, updates[0])\n",
    "    \n",
    "    if model.self_adaptive:\n",
    "        # normalize λ\n",
    "        model = eqx.tree_at(lambda m : m.self_adaptive.λ, model, model.self_adaptive.λ/jnp.mean(model.self_adaptive.λ))        \n",
    "    \n",
    "    return model, opt_state, loss\n",
    "\n",
    "Trainer.make_step = staticmethod(make_step)"
   ]
  },
  {
   "cell_type": "code",
   "execution_count": 54,
   "metadata": {},
   "outputs": [],
   "source": [
    "hparams = fno2d.Hparams(n_blocks=3, hidden_dim=25, modes_max=8, λ_learning_rate=1e-2, λ_shape = (N+1, M+1))\n",
    "\n",
    "model = FNO2d(hparams)"
   ]
  },
  {
   "cell_type": "code",
   "execution_count": 55,
   "metadata": {},
   "outputs": [],
   "source": [
    "\n",
    "train_loader = jdl.DataLoader(jdl.ArrayDataset(a_train_n, u_train_n), batch_size=16, shuffle=True, backend='jax')\n",
    "val_loader = jdl.DataLoader(jdl.ArrayDataset(a_val_n, u_val_n), batch_size=16, shuffle=True, backend='jax')\n",
    "\n",
    "θ_learning_rate = 1e-3\n",
    "λ_learning_rate = 1e-2\n",
    "\n",
    "θ_optimizer = optax.adam(θ_learning_rate)\n",
    "λ_optimizer = optax.chain(optax.adam(λ_learning_rate), optax.scale(-1.))\n",
    "opt = optax.multi_transform({'θ': θ_optimizer, 'λ': λ_optimizer}, param_labels=param_labels)\n",
    "opt_state = opt.init(eqx.filter([model], eqx.is_array))\n",
    "\n",
    "trainer = Trainer(model, opt, opt_state, train_loader, val_loader, hparams = hparams, animate=True, max_epochs=30, save_path=PATH)"
   ]
  },
  {
   "cell_type": "code",
   "execution_count": 56,
   "metadata": {},
   "outputs": [
    {
     "data": {
      "application/vnd.jupyter.widget-view+json": {
       "model_id": "6ba817c262a1484fb4d85e01dcb84adc",
       "version_major": 2,
       "version_minor": 0
      },
      "text/plain": [
       "Output()"
      ]
     },
     "metadata": {},
     "output_type": "display_data"
    },
    {
     "data": {
      "text/html": [
       "<pre style=\"white-space:pre;overflow-x:auto;line-height:normal;font-family:Menlo,'DejaVu Sans Mono',consolas,'Courier New',monospace\"></pre>\n"
      ],
      "text/plain": []
     },
     "metadata": {},
     "output_type": "display_data"
    }
   ],
   "source": [
    "trainer()"
   ]
  },
  {
   "cell_type": "code",
   "execution_count": 57,
   "metadata": {},
   "outputs": [
    {
     "data": {
      "text/html": [
       "\n",
       "        <iframe\n",
       "            width=\"100%\"\n",
       "            height=\"650\"\n",
       "            src=\"http://127.0.0.1:8050/\"\n",
       "            frameborder=\"0\"\n",
       "            allowfullscreen\n",
       "            \n",
       "        ></iframe>\n",
       "        "
      ],
      "text/plain": [
       "<IPython.lib.display.IFrame at 0x1f0051c5a00>"
      ]
     },
     "metadata": {},
     "output_type": "display_data"
    }
   ],
   "source": [
    "plot_loss(trainer)"
   ]
  },
  {
   "cell_type": "code",
   "execution_count": 41,
   "metadata": {},
   "outputs": [],
   "source": [
    "\n",
    "def plot_predictions(u, a, x, t, *models, **kwargs):\n",
    "    \"\"\"Displays the predictions and errors of a list of models on a given sample.\n",
    "    Pressing the button generates the animation for a new sample\n",
    "\n",
    "    Args:\n",
    "        u (n_samples, t_dim, x_dim): ground truth solutions\n",
    "        a (n_samples, x_dim): input to models\n",
    "        x (x_dim): spatial points\n",
    "        t (t_dim): time points\n",
    "    \"\"\"\n",
    "    app = dash.Dash(external_stylesheets=[dbc.themes.MATERIA])\n",
    "\n",
    "    app.layout = dbc.Container(\n",
    "        [\n",
    "            html.H1(\"Predictions and Errors\"),\n",
    "            dbc.Button(\"New sample\",color=\"primary\", id=\"button\"),\n",
    "            dbc.Tabs(\n",
    "                [\n",
    "                    dbc.Tab(label=\"Predictions\", tab_id=\"predictions\"),\n",
    "                    dbc.Tab(label=\"Errors\", tab_id=\"errors\"),\n",
    "                    dbc.Tab(label=\"Both\", tab_id=\"both\"),\n",
    "                ],\n",
    "                id=\"tabs\",\n",
    "                active_tab=\"predictions\",\n",
    "            ),\n",
    "            dbc.Spinner(\n",
    "                [\n",
    "                    dcc.Store(id=\"store\"),\n",
    "                    html.Div(id=\"tab-content\", className=\"p-4\"),\n",
    "                ],\n",
    "                delay_show=100,\n",
    "            ),\n",
    "        ]\n",
    "    )\n",
    "\n",
    "    @app.callback(\n",
    "        Output(\"tab-content\", \"children\"),\n",
    "        [Input(\"tabs\", \"active_tab\"), Input(\"store\", \"data\")],\n",
    "    )\n",
    "    def render_tab_content(active_tab, data):\n",
    "        if active_tab is not None and data:\n",
    "            if active_tab == \"predictions\":\n",
    "                return dcc.Graph(figure=data[\"Predictions\"])\n",
    "            elif active_tab == \"errors\":\n",
    "                return dcc.Graph(figure=data[\"Errors\"])\n",
    "            elif active_tab == \"both\":\n",
    "                return dcc.Graph(figure=data[\"Both\"])\n",
    "        return \"No tab selected\"\n",
    "\n",
    "    @app.callback(\n",
    "        Output(\"store\", \"data\"),\n",
    "        [Input(\"button\", \"n_clicks\")]\n",
    "    )\n",
    "    def generate_graphs(n):\n",
    "        if not n:\n",
    "            n = 0\n",
    "        # Select a new function based on the button click\n",
    "        a_sample = a[n]\n",
    "        u_sample = u[n].ravel()\n",
    "\n",
    "        model_names = kwargs.get(\"model_names\", [f\"Model {i}\" for i in range(len(models))])\n",
    "\n",
    "        df = pd.DataFrame({\n",
    "            \"Ground Truth\": u_sample,\n",
    "            \"x\": jnp.tile(round(x, 2), len(t)),\n",
    "            \"t\": jnp.repeat(round(t, 2), len(x))\n",
    "        })\n",
    "\n",
    "        prediction_columns = [\"Ground Truth\"] + model_names\n",
    "        error_columns = [f\"Error {model_name}\" for model_name in model_names]\n",
    "\n",
    "        for i, model in enumerate(models):\n",
    "            prediction = model(a_sample, x, t).ravel()\n",
    "            error = jnp.abs(prediction - u_sample)\n",
    "            df[model_names[i]] = prediction\n",
    "            df[f\"Error {model_names[i]}\"] = error\n",
    "            \n",
    "        y_min = df[prediction_columns].min().min()\n",
    "        y_max = df[prediction_columns].max().max()\n",
    "\n",
    "        animations = {\n",
    "            \"Predictions\": px.line(df, x='x', y=prediction_columns, animation_frame='t', range_y=[y_min, y_max],\n",
    "                                   labels={'t': 'Time (t)', 'u': 'u(x, t)'}),\n",
    "            \"Errors\": px.line(df, x='x', y=error_columns, animation_frame='t', range_y=[0, df[error_columns].max().max()],\n",
    "                              labels={'t': 'Time (t)', 'u': 'u(x, t)'}),\n",
    "            \"Both\": px.line(df, x='x', y=prediction_columns + error_columns, animation_frame='t', range_y=[y_min, y_max],\n",
    "                            labels={'t': 'Time (t)', 'u': 'u(x, t)'}),\n",
    "        }\n",
    "\n",
    "        for key, fig in animations.items():\n",
    "            fig.layout.updatemenus[0].buttons[0].args[1][\"transition\"][\"duration\"] = 0\n",
    "            fig.layout.updatemenus[0].buttons[0].args[1][\"frame\"][\"duration\"] = 20\n",
    "            for data in fig.data:\n",
    "                if key == \"Both\":\n",
    "                    if data.name.startswith(\"Error\"):\n",
    "                        data.line.dash = 'dash'\n",
    "                    elif data.name == 'Ground Truth':\n",
    "                        data.line.dash = 'dot'\n",
    "                        data.line.color = 'black'\n",
    "                elif key == \"Predictions\":\n",
    "                    if data.name == 'Ground Truth':\n",
    "                        data.line.dash = 'dot'\n",
    "                        data.line.color = 'black'\n",
    "\n",
    "            for frame in fig.frames:\n",
    "                for data in frame.data:\n",
    "                    if key == \"Both\":\n",
    "                        if data.name.startswith(\"Error\"):\n",
    "                            data.line.dash = 'dash'\n",
    "                        elif data.name == 'Ground Truth':\n",
    "                            data.line.dash = 'dot'\n",
    "                            data.line.color = 'black'\n",
    "                    elif key == \"Predictions\":\n",
    "                        if data.name == 'Ground Truth':\n",
    "                            data.line.dash = 'dot'\n",
    "                            data.line.color = 'black'\n",
    "\n",
    "        return animations\n",
    "\n",
    "\n",
    "    app.run_server()\n"
   ]
  },
  {
   "cell_type": "code",
   "execution_count": 44,
   "metadata": {},
   "outputs": [
    {
     "data": {
      "text/html": [
       "\n",
       "        <iframe\n",
       "            width=\"100%\"\n",
       "            height=\"650\"\n",
       "            src=\"http://127.0.0.1:8050/\"\n",
       "            frameborder=\"0\"\n",
       "            allowfullscreen\n",
       "            \n",
       "        ></iframe>\n",
       "        "
      ],
      "text/plain": [
       "<IPython.lib.display.IFrame at 0x16c8eca6870>"
      ]
     },
     "metadata": {},
     "output_type": "display_data"
    }
   ],
   "source": [
    "plot_predictions(u_test, a_test, x, t, trainer.model)"
   ]
  },
  {
   "cell_type": "markdown",
   "metadata": {},
   "source": [
    "# Optuna"
   ]
  },
  {
   "cell_type": "code",
   "execution_count": null,
   "metadata": {},
   "outputs": [],
   "source": [
    "class HyperparameterTuning:\n",
    "    def __init__(self, key, **kwargs):\n",
    "        self.key = key\n",
    "        self.kwargs = kwargs\n",
    "\n",
    "    def __call__(self, trial):\n",
    "        \n",
    "        hparams = ModifiedDeepONetFast.Hparams(\n",
    "            width=trial.suggest_int(\"width\", 50, 150),\n",
    "            depth=trial.suggest_int(\"depth\", 3, 10),\n",
    "            interact_size=trial.suggest_int(\"interact_size\", 5, 25),\n",
    "            θ_learning_rate=trial.suggest_float(\"θ_learning_rate\", 1e-4, 1e-2),\n",
    "            batch_size=16,\n",
    "        )\n",
    "        \n",
    "        self_adaptive=trial.suggest_categorical(\"self_adaptive\", [True, False])\n",
    "        \n",
    "        θ_optimizer = optax.adam(hparams.θ_learning_rate)\n",
    "        \n",
    "        if self_adaptive:\n",
    "            self_adaptive = SelfAdaptive(shape = (N+1, M+1))\n",
    "            hparams.λ_learning_rate=trial.suggest_float(\"λ_learning_rate\", 1e-3, 1e-1),\n",
    "            hparams.λ_mask = trial.suggest_categorical(\"λ_mask\", [\"soft-relu\", \"quadratic\", \"sigmoid\"])\n",
    "            λ_optimizer = optax.chain(optax.adam(hparams.λ_learning_rate), optax.scale(-1.))\n",
    "            opt = optax.multi_transform({'θ': θ_optimizer, 'λ': λ_optimizer}, param_labels=param_labels)\n",
    "        else:\n",
    "            opt = θ_optimizer\n",
    "        \n",
    "        # Initialize the model with the random hyperparameters\n",
    "        model = ModifiedDeepONetFast(hparams, number_of_sensors=NUMBER_OF_SENSORS, N=N, M=M, P=P, key=self.key)\n",
    "        \n",
    "        opt_state = opt.init(eqx.filter([model], eqx.is_array))\n",
    "\n",
    "        train_loader = jdl.DataLoader(jdl.ArrayDataset(a_train, u_train), batch_size=hparams.batch_size, backend='jax', shuffle=True)\n",
    "        val_loader = jdl.DataLoader(jdl.ArrayDataset(a_val, u_val), batch_size=hparams.batch_size, backend='jax', shuffle=True)\n",
    "\n",
    "        trainer = Trainer(model, opt, opt_state, train_loader, val_loader, trial=trial, **self.kwargs)\n",
    "        trainer.train_model()\n",
    "        last_val_loss = trainer.current_val_loss\n",
    "        \n",
    "        return last_val_loss"
   ]
  },
  {
   "cell_type": "code",
   "execution_count": 7,
   "metadata": {},
   "outputs": [
    {
     "data": {
      "application/vnd.jupyter.widget-view+json": {
       "model_id": "3db70db4ec0441f9bae240c7da4a5db4",
       "version_major": 2,
       "version_minor": 0
      },
      "text/plain": [
       "Output()"
      ]
     },
     "metadata": {},
     "output_type": "display_data"
    },
    {
     "data": {
      "text/html": [
       "<pre style=\"white-space:pre;overflow-x:auto;line-height:normal;font-family:Menlo,'DejaVu Sans Mono',consolas,'Courier New',monospace\"></pre>\n"
      ],
      "text/plain": []
     },
     "metadata": {},
     "output_type": "display_data"
    }
   ],
   "source": [
    "num_trials = 3\n",
    "\n",
    "study = optuna.create_study(\n",
    "    study_name='test',\n",
    "    storage=f'sqlite:///optuna/optuna_hparam_search.db',\n",
    "    pruner=optuna.pruners.MedianPruner(n_startup_trials=5, n_warmup_steps=50),\n",
    "    sampler = optuna.samplers.TPESampler(seed=1),\n",
    "    load_if_exists=True,\n",
    ")\n",
    "\n",
    "\n",
    "with ProgressBar(mode = \"trial\") as p:\n",
    "    p.pbar.update(p.trials_id, total = num_trials)\n",
    "    study.optimize(HyperparameterTuning(random.PRNGKey(0), max_epochs = 100, early_stopping=False), n_trials=num_trials, callbacks = [lambda study, trial: p.pbar.advance(p.trials_id)])\n"
   ]
  },
  {
   "cell_type": "markdown",
   "metadata": {},
   "source": [
    "# Train model for some more epochs"
   ]
  },
  {
   "cell_type": "markdown",
   "metadata": {},
   "source": [
    "## Code without self-adaptive weights"
   ]
  },
  {
   "cell_type": "code",
   "execution_count": 17,
   "metadata": {},
   "outputs": [
    {
     "data": {
      "application/vnd.jupyter.widget-view+json": {
       "model_id": "73354ee0ead84803aeadd46250cc7252",
       "version_major": 2,
       "version_minor": 0
      },
      "text/plain": [
       "Output()"
      ]
     },
     "metadata": {},
     "output_type": "display_data"
    },
    {
     "data": {
      "text/html": [
       "<pre style=\"white-space:pre;overflow-x:auto;line-height:normal;font-family:Menlo,'DejaVu Sans Mono',consolas,'Courier New',monospace\"></pre>\n"
      ],
      "text/plain": []
     },
     "metadata": {},
     "output_type": "display_data"
    }
   ],
   "source": [
    "# Suggested hyperparameters\n",
    "\n",
    "hparams = ModifiedDeepONetFastHparams(\n",
    "    **study.best_params,\n",
    "    batch_size=16,\n",
    ")\n",
    "\n",
    "# Create model instance\n",
    "\n",
    "opt = optax.adam(hparams.θ_learning_rate)\n",
    "\n",
    "# Initialize the model with the random hyperparameters\n",
    "model = ModifiedDeepONetFast(\n",
    "    hparams, \n",
    "    number_of_sensors=NUMBER_OF_SENSORS, \n",
    "    P=P, \n",
    "    M=M, \n",
    "    N=N, \n",
    "    key=random.PRNGKey(0)\n",
    ")\n",
    "\n",
    "opt_state = opt.init(eqx.filter([model], eqx.is_array))\n",
    "\n",
    "train_loader = jdl.DataLoader(jdl.ArrayDataset(a_train, u_train), batch_size=hparams.batch_size, backend='jax', shuffle=True)\n",
    "val_loader = jdl.DataLoader(jdl.ArrayDataset(a_val, u_val), batch_size=hparams.batch_size, backend='jax', shuffle=True)\n",
    "\n",
    "trainer = Trainer(model, opt, opt_state, train_loader, val_loader, early_stopping=False, max_epochs=100, hparams=hparams)\n",
    "trainer.train_model()"
   ]
  },
  {
   "cell_type": "code",
   "execution_count": null,
   "metadata": {},
   "outputs": [
    {
     "data": {
      "image/png": "[encoded data removed]",
      "text/plain": [
       "<Figure size 640x480 with 1 Axes>"
      ]
     },
     "metadata": {},
     "output_type": "display_data"
    }
   ],
   "source": [
    "trainer.plot_loss()"
   ]
  },
  {
   "cell_type": "code",
   "execution_count": null,
   "metadata": {},
   "outputs": [
    {
     "data": {
      "application/vnd.jupyter.widget-view+json": {
       "model_id": "f9b15f223f914364a73757f040b505ed",
       "version_major": 2,
       "version_minor": 0
      },
      "text/plain": [
       "Output()"
      ]
     },
     "metadata": {},
     "output_type": "display_data"
    },
    {
     "data": {
      "text/html": [
       "<pre style=\"white-space:pre;overflow-x:auto;line-height:normal;font-family:Menlo,'DejaVu Sans Mono',consolas,'Courier New',monospace\"></pre>\n"
      ],
      "text/plain": []
     },
     "metadata": {},
     "output_type": "display_data"
    }
   ],
   "source": [
    "# Suggested hyperparameters\n",
    "\n",
    "hparams_sa = ModifiedDeepONetFastHparams(\n",
    "    **study.best_params,\n",
    "    self_adaptive=True,\n",
    "    λ_mask = \"soft-relu\",\n",
    "    λ_learning_rate = 5e-2,\n",
    "    batch_size=16,\n",
    ")\n",
    "\n",
    "# Create model instance\n",
    "\n",
    "θ_optimizer = optax.adam(hparams_sa.θ_learning_rate)\n",
    "λ_optimizer = optax.chain(optax.adam(hparams_sa.λ_learning_rate), optax.scale(-1.))\n",
    "opt = optax.multi_transform({'θ': θ_optimizer, 'λ': λ_optimizer}, param_labels=param_labels)\n",
    "\n",
    "# Initialize the model with the random hyperparameters\n",
    "model_sa = ModifiedDeepONetFast(\n",
    "    hparams_sa, \n",
    "    number_of_sensors=NUMBER_OF_SENSORS, \n",
    "    P=P, \n",
    "    M=M, \n",
    "    N=N, \n",
    "    key=random.PRNGKey(0)\n",
    ")\n",
    "\n",
    "opt_state = opt.init(eqx.filter([model_sa], eqx.is_array))\n",
    "\n",
    "train_loader = jdl.DataLoader(jdl.ArrayDataset(a_train, u_train), batch_size=hparams.batch_size, backend='jax', shuffle=True)\n",
    "val_loader = jdl.DataLoader(jdl.ArrayDataset(a_val, u_val), batch_size=hparams.batch_size, backend='jax', shuffle=True)\n",
    "\n",
    "trainer_sa = Trainer(model_sa, opt, opt_state, train_loader, val_loader, early_stopping=False, max_epochs=100, hparams=hparams_sa, filename=\"model_sa\", animate=True)\n",
    "trainer_sa.train_model()"
   ]
  },
  {
   "cell_type": "code",
   "execution_count": null,
   "metadata": {},
   "outputs": [
    {
     "data": {
      "image/png": "[encoded data removed]",
      "text/plain": [
       "<Figure size 640x480 with 1 Axes>"
      ]
     },
     "metadata": {},
     "output_type": "display_data"
    }
   ],
   "source": [
    "trainer_sa.plot_loss()"
   ]
  },
  {
   "cell_type": "code",
   "execution_count": 8,
   "metadata": {},
   "outputs": [
    {
     "ename": "TypeError",
     "evalue": "ModifiedDeepONetFastHparams.__init__() got an unexpected keyword argument 'n_blocks'",
     "output_type": "error",
     "traceback": [
      "\u001b[1;31m---------------------------------------------------------------------------\u001b[0m",
      "\u001b[1;31mTypeError\u001b[0m                                 Traceback (most recent call last)",
      "Cell \u001b[1;32mIn[8], line 1\u001b[0m\n\u001b[1;32m----> 1\u001b[0m model \u001b[38;5;241m=\u001b[39m \u001b[43mload_model\u001b[49m\u001b[43m(\u001b[49m\u001b[43mModifiedDeepONetFast\u001b[49m\u001b[43m,\u001b[49m\u001b[43m \u001b[49m\u001b[43mModifiedDeepONetFastHparams\u001b[49m\u001b[43m,\u001b[49m\u001b[43m \u001b[49m\u001b[38;5;124;43m\"\u001b[39;49m\u001b[38;5;124;43mmodel\u001b[39;49m\u001b[38;5;124;43m\"\u001b[39;49m\u001b[43m)\u001b[49m\n\u001b[0;32m      2\u001b[0m model_sa \u001b[38;5;241m=\u001b[39m load_model(ModifiedDeepONetFast, ModifiedDeepONetFastHparams, \u001b[38;5;124m\"\u001b[39m\u001b[38;5;124mmodel_sa\u001b[39m\u001b[38;5;124m\"\u001b[39m)\n",
      "File \u001b[1;32mc:\\Users\\eirik\\OneDrive - NTNU\\5. klasse\\prosjektoppgave\\eirik_prosjektoppgave\\Networks\\utils.py:53\u001b[0m, in \u001b[0;36mload_model\u001b[1;34m(Network, Hparams, filename)\u001b[0m\n\u001b[0;32m     51\u001b[0m \u001b[38;5;28;01mwith\u001b[39;00m \u001b[38;5;28mopen\u001b[39m(filename, \u001b[38;5;124m\"\u001b[39m\u001b[38;5;124mrb\u001b[39m\u001b[38;5;124m\"\u001b[39m) \u001b[38;5;28;01mas\u001b[39;00m f:\n\u001b[0;32m     52\u001b[0m     hyperparams \u001b[38;5;241m=\u001b[39m json\u001b[38;5;241m.\u001b[39mloads(f\u001b[38;5;241m.\u001b[39mreadline()\u001b[38;5;241m.\u001b[39mdecode())\n\u001b[1;32m---> 53\u001b[0m     model \u001b[38;5;241m=\u001b[39m Network(\u001b[43mHparams\u001b[49m\u001b[43m(\u001b[49m\u001b[38;5;241;43m*\u001b[39;49m\u001b[38;5;241;43m*\u001b[39;49m\u001b[43mhyperparams\u001b[49m\u001b[43m)\u001b[49m)\n\u001b[0;32m     54\u001b[0m     \u001b[38;5;28;01mreturn\u001b[39;00m eqx\u001b[38;5;241m.\u001b[39mtree_deserialise_leaves(f, model)\n",
      "\u001b[1;31mTypeError\u001b[0m: ModifiedDeepONetFastHparams.__init__() got an unexpected keyword argument 'n_blocks'"
     ]
    }
   ],
   "source": [
    "model = load_model(ModifiedDeepONetFast, ModifiedDeepONetFastHparams, \"model\")\n",
    "model_sa = load_model(ModifiedDeepONetFast, ModifiedDeepONetFastHparams, \"model_sa\")"
   ]
  },
  {
   "cell_type": "code",
   "execution_count": 19,
   "metadata": {},
   "outputs": [
    {
     "data": {
      "text/html": [
       "\n",
       "        <iframe\n",
       "            width=\"100%\"\n",
       "            height=\"650\"\n",
       "            src=\"http://127.0.0.1:8050/\"\n",
       "            frameborder=\"0\"\n",
       "            allowfullscreen\n",
       "            \n",
       "        ></iframe>\n",
       "        "
      ],
      "text/plain": [
       "<IPython.lib.display.IFrame at 0x212b211f020>"
      ]
     },
     "metadata": {},
     "output_type": "display_data"
    }
   ],
   "source": [
    "display_predictions(u_test, a_test, x, t, trainer.model, model_names = [\"Operator learning model\"])"
   ]
  },
  {
   "cell_type": "code",
   "execution_count": null,
   "metadata": {},
   "outputs": [
    {
     "data": {
      "text/html": [
       "\n",
       "        <iframe\n",
       "            width=\"100%\"\n",
       "            height=\"650\"\n",
       "            src=\"http://127.0.0.1:8050/\"\n",
       "            frameborder=\"0\"\n",
       "            allowfullscreen\n",
       "            \n",
       "        ></iframe>\n",
       "        "
      ],
      "text/plain": [
       "<IPython.lib.display.IFrame at 0x2069906bf80>"
      ]
     },
     "metadata": {},
     "output_type": "display_data"
    },
    {
     "name": "stderr",
     "output_type": "stream",
     "text": [
      "[2024-11-07 14:45:56,106] ERROR in app: Exception on /_dash-update-component [POST]\n",
      "Traceback (most recent call last):\n",
      "  File \"c:\\Users\\eirik\\anaconda3\\envs\\prosjektoppgave\\Lib\\site-packages\\flask\\app.py\", line 1473, in wsgi_app\n",
      "    response = self.full_dispatch_request()\n",
      "               ^^^^^^^^^^^^^^^^^^^^^^^^^^^^\n",
      "  File \"c:\\Users\\eirik\\anaconda3\\envs\\prosjektoppgave\\Lib\\site-packages\\flask\\app.py\", line 882, in full_dispatch_request\n",
      "    rv = self.handle_user_exception(e)\n",
      "         ^^^^^^^^^^^^^^^^^^^^^^^^^^^^^\n",
      "  File \"c:\\Users\\eirik\\anaconda3\\envs\\prosjektoppgave\\Lib\\site-packages\\flask\\app.py\", line 880, in full_dispatch_request\n",
      "    rv = self.dispatch_request()\n",
      "         ^^^^^^^^^^^^^^^^^^^^^^^\n",
      "  File \"c:\\Users\\eirik\\anaconda3\\envs\\prosjektoppgave\\Lib\\site-packages\\flask\\app.py\", line 865, in dispatch_request\n",
      "    return self.ensure_sync(self.view_functions[rule.endpoint])(**view_args)  # type: ignore[no-any-return]\n",
      "           ^^^^^^^^^^^^^^^^^^^^^^^^^^^^^^^^^^^^^^^^^^^^^^^^^^^^^^^^^^^^^^^^^\n",
      "  File \"c:\\Users\\eirik\\anaconda3\\envs\\prosjektoppgave\\Lib\\site-packages\\dash\\dash.py\", line 1376, in dispatch\n",
      "    ctx.run(\n",
      "  File \"c:\\Users\\eirik\\anaconda3\\envs\\prosjektoppgave\\Lib\\site-packages\\dash\\_callback.py\", line 373, in add_context\n",
      "    func_args, func_kwargs = _validate.validate_and_group_input_args(\n",
      "                             ^^^^^^^^^^^^^^^^^^^^^^^^^^^^^^^^^^^^^^^^\n",
      "  File \"c:\\Users\\eirik\\anaconda3\\envs\\prosjektoppgave\\Lib\\site-packages\\dash\\_validate.py\", line 143, in validate_and_group_input_args\n",
      "    raise exceptions.CallbackException(\"Inputs do not match callback definition\")\n",
      "dash.exceptions.CallbackException: Inputs do not match callback definition\n",
      "[2024-11-07 14:45:58,947] ERROR in app: Exception on /_dash-update-component [POST]\n",
      "Traceback (most recent call last):\n",
      "  File \"c:\\Users\\eirik\\anaconda3\\envs\\prosjektoppgave\\Lib\\site-packages\\flask\\app.py\", line 1473, in wsgi_app\n",
      "    response = self.full_dispatch_request()\n",
      "               ^^^^^^^^^^^^^^^^^^^^^^^^^^^^\n",
      "  File \"c:\\Users\\eirik\\anaconda3\\envs\\prosjektoppgave\\Lib\\site-packages\\flask\\app.py\", line 882, in full_dispatch_request\n",
      "    rv = self.handle_user_exception(e)\n",
      "         ^^^^^^^^^^^^^^^^^^^^^^^^^^^^^\n",
      "  File \"c:\\Users\\eirik\\anaconda3\\envs\\prosjektoppgave\\Lib\\site-packages\\flask\\app.py\", line 880, in full_dispatch_request\n",
      "    rv = self.dispatch_request()\n",
      "         ^^^^^^^^^^^^^^^^^^^^^^^\n",
      "  File \"c:\\Users\\eirik\\anaconda3\\envs\\prosjektoppgave\\Lib\\site-packages\\flask\\app.py\", line 865, in dispatch_request\n",
      "    return self.ensure_sync(self.view_functions[rule.endpoint])(**view_args)  # type: ignore[no-any-return]\n",
      "           ^^^^^^^^^^^^^^^^^^^^^^^^^^^^^^^^^^^^^^^^^^^^^^^^^^^^^^^^^^^^^^^^^\n",
      "  File \"c:\\Users\\eirik\\anaconda3\\envs\\prosjektoppgave\\Lib\\site-packages\\dash\\dash.py\", line 1376, in dispatch\n",
      "    ctx.run(\n",
      "  File \"c:\\Users\\eirik\\anaconda3\\envs\\prosjektoppgave\\Lib\\site-packages\\dash\\_callback.py\", line 373, in add_context\n",
      "    func_args, func_kwargs = _validate.validate_and_group_input_args(\n",
      "                             ^^^^^^^^^^^^^^^^^^^^^^^^^^^^^^^^^^^^^^^^\n",
      "  File \"c:\\Users\\eirik\\anaconda3\\envs\\prosjektoppgave\\Lib\\site-packages\\dash\\_validate.py\", line 143, in validate_and_group_input_args\n",
      "    raise exceptions.CallbackException(\"Inputs do not match callback definition\")\n",
      "dash.exceptions.CallbackException: Inputs do not match callback definition\n",
      "[2024-11-07 14:45:59,758] ERROR in app: Exception on /_dash-update-component [POST]\n",
      "Traceback (most recent call last):\n",
      "  File \"c:\\Users\\eirik\\anaconda3\\envs\\prosjektoppgave\\Lib\\site-packages\\flask\\app.py\", line 1473, in wsgi_app\n",
      "    response = self.full_dispatch_request()\n",
      "               ^^^^^^^^^^^^^^^^^^^^^^^^^^^^\n",
      "  File \"c:\\Users\\eirik\\anaconda3\\envs\\prosjektoppgave\\Lib\\site-packages\\flask\\app.py\", line 882, in full_dispatch_request\n",
      "    rv = self.handle_user_exception(e)\n",
      "         ^^^^^^^^^^^^^^^^^^^^^^^^^^^^^\n",
      "  File \"c:\\Users\\eirik\\anaconda3\\envs\\prosjektoppgave\\Lib\\site-packages\\flask\\app.py\", line 880, in full_dispatch_request\n",
      "    rv = self.dispatch_request()\n",
      "         ^^^^^^^^^^^^^^^^^^^^^^^\n",
      "  File \"c:\\Users\\eirik\\anaconda3\\envs\\prosjektoppgave\\Lib\\site-packages\\flask\\app.py\", line 865, in dispatch_request\n",
      "    return self.ensure_sync(self.view_functions[rule.endpoint])(**view_args)  # type: ignore[no-any-return]\n",
      "           ^^^^^^^^^^^^^^^^^^^^^^^^^^^^^^^^^^^^^^^^^^^^^^^^^^^^^^^^^^^^^^^^^\n",
      "  File \"c:\\Users\\eirik\\anaconda3\\envs\\prosjektoppgave\\Lib\\site-packages\\dash\\dash.py\", line 1376, in dispatch\n",
      "    ctx.run(\n",
      "  File \"c:\\Users\\eirik\\anaconda3\\envs\\prosjektoppgave\\Lib\\site-packages\\dash\\_callback.py\", line 373, in add_context\n",
      "    func_args, func_kwargs = _validate.validate_and_group_input_args(\n",
      "                             ^^^^^^^^^^^^^^^^^^^^^^^^^^^^^^^^^^^^^^^^\n",
      "  File \"c:\\Users\\eirik\\anaconda3\\envs\\prosjektoppgave\\Lib\\site-packages\\dash\\_validate.py\", line 143, in validate_and_group_input_args\n",
      "    raise exceptions.CallbackException(\"Inputs do not match callback definition\")\n",
      "dash.exceptions.CallbackException: Inputs do not match callback definition\n",
      "[2024-11-07 14:46:00,579] ERROR in app: Exception on /_dash-update-component [POST]\n",
      "Traceback (most recent call last):\n",
      "  File \"c:\\Users\\eirik\\anaconda3\\envs\\prosjektoppgave\\Lib\\site-packages\\flask\\app.py\", line 1473, in wsgi_app\n",
      "    response = self.full_dispatch_request()\n",
      "               ^^^^^^^^^^^^^^^^^^^^^^^^^^^^\n",
      "  File \"c:\\Users\\eirik\\anaconda3\\envs\\prosjektoppgave\\Lib\\site-packages\\flask\\app.py\", line 882, in full_dispatch_request\n",
      "    rv = self.handle_user_exception(e)\n",
      "         ^^^^^^^^^^^^^^^^^^^^^^^^^^^^^\n",
      "  File \"c:\\Users\\eirik\\anaconda3\\envs\\prosjektoppgave\\Lib\\site-packages\\flask\\app.py\", line 880, in full_dispatch_request\n",
      "    rv = self.dispatch_request()\n",
      "         ^^^^^^^^^^^^^^^^^^^^^^^\n",
      "  File \"c:\\Users\\eirik\\anaconda3\\envs\\prosjektoppgave\\Lib\\site-packages\\flask\\app.py\", line 865, in dispatch_request\n",
      "    return self.ensure_sync(self.view_functions[rule.endpoint])(**view_args)  # type: ignore[no-any-return]\n",
      "           ^^^^^^^^^^^^^^^^^^^^^^^^^^^^^^^^^^^^^^^^^^^^^^^^^^^^^^^^^^^^^^^^^\n",
      "  File \"c:\\Users\\eirik\\anaconda3\\envs\\prosjektoppgave\\Lib\\site-packages\\dash\\dash.py\", line 1376, in dispatch\n",
      "    ctx.run(\n",
      "  File \"c:\\Users\\eirik\\anaconda3\\envs\\prosjektoppgave\\Lib\\site-packages\\dash\\_callback.py\", line 373, in add_context\n",
      "    func_args, func_kwargs = _validate.validate_and_group_input_args(\n",
      "                             ^^^^^^^^^^^^^^^^^^^^^^^^^^^^^^^^^^^^^^^^\n",
      "  File \"c:\\Users\\eirik\\anaconda3\\envs\\prosjektoppgave\\Lib\\site-packages\\dash\\_validate.py\", line 143, in validate_and_group_input_args\n",
      "    raise exceptions.CallbackException(\"Inputs do not match callback definition\")\n",
      "dash.exceptions.CallbackException: Inputs do not match callback definition\n",
      "[2024-11-07 14:46:02,873] ERROR in app: Exception on /_dash-update-component [POST]\n",
      "Traceback (most recent call last):\n",
      "  File \"c:\\Users\\eirik\\anaconda3\\envs\\prosjektoppgave\\Lib\\site-packages\\flask\\app.py\", line 1473, in wsgi_app\n",
      "    response = self.full_dispatch_request()\n",
      "               ^^^^^^^^^^^^^^^^^^^^^^^^^^^^\n",
      "  File \"c:\\Users\\eirik\\anaconda3\\envs\\prosjektoppgave\\Lib\\site-packages\\flask\\app.py\", line 882, in full_dispatch_request\n",
      "    rv = self.handle_user_exception(e)\n",
      "         ^^^^^^^^^^^^^^^^^^^^^^^^^^^^^\n",
      "  File \"c:\\Users\\eirik\\anaconda3\\envs\\prosjektoppgave\\Lib\\site-packages\\flask\\app.py\", line 880, in full_dispatch_request\n",
      "    rv = self.dispatch_request()\n",
      "         ^^^^^^^^^^^^^^^^^^^^^^^\n",
      "  File \"c:\\Users\\eirik\\anaconda3\\envs\\prosjektoppgave\\Lib\\site-packages\\flask\\app.py\", line 865, in dispatch_request\n",
      "    return self.ensure_sync(self.view_functions[rule.endpoint])(**view_args)  # type: ignore[no-any-return]\n",
      "           ^^^^^^^^^^^^^^^^^^^^^^^^^^^^^^^^^^^^^^^^^^^^^^^^^^^^^^^^^^^^^^^^^\n",
      "  File \"c:\\Users\\eirik\\anaconda3\\envs\\prosjektoppgave\\Lib\\site-packages\\dash\\dash.py\", line 1376, in dispatch\n",
      "    ctx.run(\n",
      "  File \"c:\\Users\\eirik\\anaconda3\\envs\\prosjektoppgave\\Lib\\site-packages\\dash\\_callback.py\", line 373, in add_context\n",
      "    func_args, func_kwargs = _validate.validate_and_group_input_args(\n",
      "                             ^^^^^^^^^^^^^^^^^^^^^^^^^^^^^^^^^^^^^^^^\n",
      "  File \"c:\\Users\\eirik\\anaconda3\\envs\\prosjektoppgave\\Lib\\site-packages\\dash\\_validate.py\", line 143, in validate_and_group_input_args\n",
      "    raise exceptions.CallbackException(\"Inputs do not match callback definition\")\n",
      "dash.exceptions.CallbackException: Inputs do not match callback definition\n",
      "[2024-11-07 14:46:03,417] ERROR in app: Exception on /_dash-update-component [POST]\n",
      "Traceback (most recent call last):\n",
      "  File \"c:\\Users\\eirik\\anaconda3\\envs\\prosjektoppgave\\Lib\\site-packages\\dash\\dash.py\", line 1301, in dispatch\n",
      "    cb = self.callback_map[output]\n",
      "         ~~~~~~~~~~~~~~~~~^^^^^^^^\n",
      "KeyError: 'store.data'\n",
      "\n",
      "The above exception was the direct cause of the following exception:\n",
      "\n",
      "Traceback (most recent call last):\n",
      "  File \"c:\\Users\\eirik\\anaconda3\\envs\\prosjektoppgave\\Lib\\site-packages\\flask\\app.py\", line 1473, in wsgi_app\n",
      "    response = self.full_dispatch_request()\n",
      "               ^^^^^^^^^^^^^^^^^^^^^^^^^^^^\n",
      "  File \"c:\\Users\\eirik\\anaconda3\\envs\\prosjektoppgave\\Lib\\site-packages\\flask\\app.py\", line 882, in full_dispatch_request\n",
      "    rv = self.handle_user_exception(e)\n",
      "         ^^^^^^^^^^^^^^^^^^^^^^^^^^^^^\n",
      "  File \"c:\\Users\\eirik\\anaconda3\\envs\\prosjektoppgave\\Lib\\site-packages\\flask\\app.py\", line 880, in full_dispatch_request\n",
      "    rv = self.dispatch_request()\n",
      "         ^^^^^^^^^^^^^^^^^^^^^^^\n",
      "  File \"c:\\Users\\eirik\\anaconda3\\envs\\prosjektoppgave\\Lib\\site-packages\\flask\\app.py\", line 865, in dispatch_request\n",
      "    return self.ensure_sync(self.view_functions[rule.endpoint])(**view_args)  # type: ignore[no-any-return]\n",
      "           ^^^^^^^^^^^^^^^^^^^^^^^^^^^^^^^^^^^^^^^^^^^^^^^^^^^^^^^^^^^^^^^^^\n",
      "  File \"c:\\Users\\eirik\\anaconda3\\envs\\prosjektoppgave\\Lib\\site-packages\\dash\\dash.py\", line 1371, in dispatch\n",
      "    raise KeyError(msg) from missing_callback_function\n",
      "KeyError: \"Callback function not found for output 'store.data', perhaps you forgot to prepend the '@'?\"\n"
     ]
    }
   ],
   "source": [
    "display_self_adaptive_weights(trainer_sa)"
   ]
  },
  {
   "cell_type": "code",
   "execution_count": null,
   "metadata": {},
   "outputs": [],
   "source": []
  }
 ],
 "metadata": {
  "kernelspec": {
   "display_name": "prosjektoppgave",
   "language": "python",
   "name": "python3"
  },
  "language_info": {
   "codemirror_mode": {
    "name": "ipython",
    "version": 3
   },
   "file_extension": ".py",
   "mimetype": "text/x-python",
   "name": "python",
   "nbconvert_exporter": "python",
   "pygments_lexer": "ipython3",
   "version": "3.12.5"
  }
 },
 "nbformat": 4,
 "nbformat_minor": 2
}
