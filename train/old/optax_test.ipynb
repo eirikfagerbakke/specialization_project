{
 "cells": [
  {
   "cell_type": "code",
   "execution_count": 1,
   "metadata": {},
   "outputs": [],
   "source": [
    "import jax\n",
    "import jax.numpy as jnp\n",
    "import optax\n",
    "import equinox as eqx\n",
    "from jaxtyping import Array\n",
    "import sys\n",
    "sys.path.append('..')\n",
    "from networks import FNO2d, FNO2d_2\n",
    "from networks.fno2d import Hparams, compute_loss\n",
    "from utils import *\n",
    "\n",
    "Trainer.compute_loss = staticmethod(compute_loss)"
   ]
  },
  {
   "cell_type": "code",
   "execution_count": 2,
   "metadata": {},
   "outputs": [],
   "source": [
    "import equinox as eqx\n",
    "import jax.numpy as jnp\n",
    "from jax import vmap\n",
    "import jax_dataloader as jdl\n",
    "import optuna\n",
    "optuna.logging.set_verbosity(optuna.logging.WARNING)\n",
    "from utils import *\n",
    "\n",
    "import jax.experimental.mesh_utils as mesh_utils\n",
    "import jax.sharding as jshard\n",
    "import argparse\n",
    "from optax.contrib import reduce_on_plateau\n",
    "\n",
    "running_on = \"local\"\n",
    "problem = \"kdv\"\n",
    "\n",
    "if running_on == \"local\":\n",
    "    data_path = \"C:/Users/eirik/OneDrive - NTNU/5. klasse/prosjektoppgave/eirik_prosjektoppgave/data/\"\n",
    "    checkpoint_path = \"C:/Users/eirik/orbax/\"\n",
    "    optuna_path = \"\"\n",
    "elif running_on == \"idun\":\n",
    "    data_path = \"/cluster/work/eirikaf/data/\"\n",
    "    checkpoint_path = \"/cluster/work/eirikaf/\"\n",
    "    optuna_path = \"phlearn-summer24/eirik_prosjektoppgave/\"\n",
    "else:\n",
    "    raise ValueError(\"Invalid running_on\")\n",
    "\n",
    "if problem == \"advection\":\n",
    "    data = jnp.load(data_path + \"advection.npz\")\n",
    "elif problem == \"kdv\":\n",
    "    data = jnp.load(data_path + \"kdv_newest.npz\")\n",
    "else:\n",
    "    raise ValueError(\"Invalid problem\")\n",
    "\n",
    "# SPLIT DATA\n",
    "train_val_test = train_val_test_split(jnp.array(data['data']), 0.8, 0.1, 0.1)\n",
    "\n",
    "# SCALE DATA\n",
    "scaled_data = scale_data(jnp.array(data['x']), jnp.array(data['t']), train_val_test)\n",
    "\n",
    "a_train_s = scaled_data[\"a_train_s\"]\n",
    "u_train_s = scaled_data[\"u_train_s\"]\n",
    "a_val_s = scaled_data[\"a_val_s\"]\n",
    "u_val_s = scaled_data[\"u_val_s\"]\n",
    "\n",
    "x_train_s = scaled_data[\"x_train_s\"]\n",
    "t_train_s = scaled_data[\"t_train_s\"]"
   ]
  },
  {
   "cell_type": "code",
   "execution_count": 3,
   "metadata": {},
   "outputs": [],
   "source": [
    "def conjugate_grads_transform():\n",
    "    def init_fn(params):\n",
    "        return None  # No state needed\n",
    "\n",
    "    def update_fn(updates, state, params=None):\n",
    "        # Conjugate the gradients if they are complex\n",
    "        updates = jax.tree_util.tree_map(\n",
    "            lambda g: jnp.conj(g) if jnp.iscomplexobj(g) else g, updates\n",
    "        )\n",
    "        return updates, state\n",
    "    return optax.GradientTransformation(init_fn, update_fn)\n",
    "\n",
    "hparams = Hparams(n_blocks = 3, hidden_dim=100, modes_max = 10)\n",
    "model_fno2d_2 = FNO2d_2(hparams)\n",
    "model_fno2d = FNO2d(hparams)"
   ]
  },
  {
   "cell_type": "code",
   "execution_count": 4,
   "metadata": {},
   "outputs": [
    {
     "data": {
      "text/plain": [
       "[FNO2d_2(\n",
       "   self_adaptive=None,\n",
       "   is_self_adaptive=None,\n",
       "   lifting=Conv2d(\n",
       "     num_spatial_dims=2,\n",
       "     weight=f64[100,3,1,1],\n",
       "     bias=f64[100,1,1],\n",
       "     in_channels=3,\n",
       "     out_channels=100,\n",
       "     kernel_size=(1, 1),\n",
       "     stride=(1, 1),\n",
       "     padding=((0, 0), (0, 0)),\n",
       "     dilation=(1, 1),\n",
       "     groups=1,\n",
       "     use_bias=True,\n",
       "     padding_mode='ZEROS'\n",
       "   ),\n",
       "   fno_blocks=FNOBlock2d(\n",
       "     spectral_conv=SpectralConv2d(\n",
       "       weights1=c128[3,100,100,10,10],\n",
       "       weights2=c128[3,100,100,10,10],\n",
       "       in_channels=None,\n",
       "       out_channels=None,\n",
       "       modes1=None,\n",
       "       modes2=None\n",
       "     ),\n",
       "     bypass=f64[3,100,100],\n",
       "     activation=None\n",
       "   ),\n",
       "   projection=Conv2d(\n",
       "     num_spatial_dims=2,\n",
       "     weight=f64[1,100,1,1],\n",
       "     bias=f64[1,1,1],\n",
       "     in_channels=100,\n",
       "     out_channels=1,\n",
       "     kernel_size=(1, 1),\n",
       "     stride=(1, 1),\n",
       "     padding=((0, 0), (0, 0)),\n",
       "     dilation=(1, 1),\n",
       "     groups=1,\n",
       "     use_bias=True,\n",
       "     padding_mode='ZEROS'\n",
       "   )\n",
       " )]"
      ]
     },
     "execution_count": 4,
     "metadata": {},
     "output_type": "execute_result"
    }
   ],
   "source": [
    "eqx.filter([model_fno2d_2], eqx.is_array)"
   ]
  },
  {
   "cell_type": "code",
   "execution_count": 5,
   "metadata": {},
   "outputs": [],
   "source": [
    "# DATALOADERS\n",
    "train_loader_fno2d_2 = jdl.DataLoader(jdl.ArrayDataset(a_train_s, u_train_s, asnumpy = False), batch_size=16, shuffle=True, backend='jax', drop_last=True)\n",
    "val_loader_fno2d_2 = jdl.DataLoader(jdl.ArrayDataset(a_val_s, u_val_s, asnumpy = False), batch_size=16, shuffle=True, backend='jax', drop_last=True)\n",
    "\n",
    "opt_fno2d_2 = optax.chain(\n",
    "    conjugate_grads_transform(),  # Conjugate gradients\n",
    "    optax.adam(1e-3),             # Adam optimizer\n",
    ")\n",
    "opt_state_fno2d_2 = opt_fno2d_2.init(eqx.filter([model_fno2d_2], eqx.is_array))\n",
    "trainer_fno_2d_2 = Trainer(model_fno2d_2, opt_fno2d_2, opt_state_fno2d_2, train_loader_fno2d_2, val_loader_fno2d_2, x = x_train_s, t = t_train_s)"
   ]
  },
  {
   "cell_type": "code",
   "execution_count": 6,
   "metadata": {},
   "outputs": [],
   "source": [
    "from time import perf_counter"
   ]
  },
  {
   "cell_type": "code",
   "execution_count": 7,
   "metadata": {},
   "outputs": [
    {
     "data": {
      "application/vnd.jupyter.widget-view+json": {
       "model_id": "c8eb4af8fda944ec8e79e564c1976901",
       "version_major": 2,
       "version_minor": 0
      },
      "text/plain": [
       "Output()"
      ]
     },
     "metadata": {},
     "output_type": "display_data"
    },
    {
     "data": {
      "text/html": [
       "<pre style=\"white-space:pre;overflow-x:auto;line-height:normal;font-family:Menlo,'DejaVu Sans Mono',consolas,'Courier New',monospace\"></pre>\n"
      ],
      "text/plain": []
     },
     "metadata": {},
     "output_type": "display_data"
    },
    {
     "name": "stdout",
     "output_type": "stream",
     "text": [
      "Time FNO2d_2: 1167.2518066000193\n"
     ]
    }
   ],
   "source": [
    "start = perf_counter()\n",
    "trainer_fno_2d_2(5)\n",
    "end = perf_counter()\n",
    "print(f\"Time FNO2d_2: {end-start}\")"
   ]
  },
  {
   "cell_type": "code",
   "execution_count": 8,
   "metadata": {},
   "outputs": [],
   "source": [
    "# DATALOADERS\n",
    "train_loader_fno2d = jdl.DataLoader(jdl.ArrayDataset(a_train_s, u_train_s, asnumpy = False), batch_size=16, shuffle=True, backend='jax', drop_last=True)\n",
    "val_loader_fno2d = jdl.DataLoader(jdl.ArrayDataset(a_val_s, u_val_s, asnumpy = False), batch_size=16, shuffle=True, backend='jax', drop_last=True)\n",
    "\n",
    "opt_fno2d = optax.adam(1e-3)\n",
    "opt_state_fno2d = opt_fno2d.init(eqx.filter([model_fno2d], eqx.is_array))\n",
    "trainer_fno_2d = Trainer(model_fno2d, opt_fno2d, opt_state_fno2d, train_loader_fno2d, val_loader_fno2d, x = x_train_s, t = t_train_s)"
   ]
  },
  {
   "cell_type": "code",
   "execution_count": 9,
   "metadata": {},
   "outputs": [
    {
     "data": {
      "application/vnd.jupyter.widget-view+json": {
       "model_id": "b8fa98d08d5d4618b3762023d78652b2",
       "version_major": 2,
       "version_minor": 0
      },
      "text/plain": [
       "Output()"
      ]
     },
     "metadata": {},
     "output_type": "display_data"
    },
    {
     "data": {
      "text/html": [
       "<pre style=\"white-space:pre;overflow-x:auto;line-height:normal;font-family:Menlo,'DejaVu Sans Mono',consolas,'Courier New',monospace\"></pre>\n"
      ],
      "text/plain": []
     },
     "metadata": {},
     "output_type": "display_data"
    },
    {
     "name": "stdout",
     "output_type": "stream",
     "text": [
      "Time FNO2d: 1189.897722100024\n"
     ]
    }
   ],
   "source": [
    "start = perf_counter()\n",
    "trainer_fno_2d(5)\n",
    "end = perf_counter()\n",
    "print(f\"Time FNO2d: {end-start}\")"
   ]
  },
  {
   "cell_type": "code",
   "execution_count": 11,
   "metadata": {},
   "outputs": [
    {
     "name": "stdout",
     "output_type": "stream",
     "text": [
      "1184.1909269001335\n",
      "1161.493817999959\n"
     ]
    }
   ],
   "source": [
    "print(trainer_fno_2d.time_trained)\n",
    "print(trainer_fno_2d_2.time_trained)"
   ]
  },
  {
   "cell_type": "code",
   "execution_count": 12,
   "metadata": {},
   "outputs": [
    {
     "data": {
      "text/html": [
       "\n",
       "        <iframe\n",
       "            width=\"100%\"\n",
       "            height=\"650\"\n",
       "            src=\"http://127.0.0.1:8050/\"\n",
       "            frameborder=\"0\"\n",
       "            allowfullscreen\n",
       "            \n",
       "        ></iframe>\n",
       "        "
      ],
      "text/plain": [
       "<IPython.lib.display.IFrame at 0x1f0a0824740>"
      ]
     },
     "metadata": {},
     "output_type": "display_data"
    }
   ],
   "source": [
    "plot_loss(trainer_fno_2d)"
   ]
  },
  {
   "cell_type": "code",
   "execution_count": 15,
   "metadata": {},
   "outputs": [
    {
     "data": {
      "text/html": [
       "\n",
       "        <iframe\n",
       "            width=\"100%\"\n",
       "            height=\"650\"\n",
       "            src=\"http://127.0.0.1:8050/\"\n",
       "            frameborder=\"0\"\n",
       "            allowfullscreen\n",
       "            \n",
       "        ></iframe>\n",
       "        "
      ],
      "text/plain": [
       "<IPython.lib.display.IFrame at 0x1f0a2b4e6c0>"
      ]
     },
     "metadata": {},
     "output_type": "display_data"
    }
   ],
   "source": [
    "plot_predictions(u_val_s, a_val_s, x_train_s, t_train_s, trainer_fno_2d.model, trainer_fno_2d_2.model)"
   ]
  },
  {
   "cell_type": "code",
   "execution_count": 13,
   "metadata": {},
   "outputs": [
    {
     "data": {
      "text/html": [
       "\n",
       "        <iframe\n",
       "            width=\"100%\"\n",
       "            height=\"650\"\n",
       "            src=\"http://127.0.0.1:8050/\"\n",
       "            frameborder=\"0\"\n",
       "            allowfullscreen\n",
       "            \n",
       "        ></iframe>\n",
       "        "
      ],
      "text/plain": [
       "<IPython.lib.display.IFrame at 0x1f0824ca210>"
      ]
     },
     "metadata": {},
     "output_type": "display_data"
    }
   ],
   "source": [
    "plot_loss(trainer_fno_2d_2)"
   ]
  },
  {
   "cell_type": "code",
   "execution_count": 20,
   "metadata": {},
   "outputs": [
    {
     "name": "stdout",
     "output_type": "stream",
     "text": [
      "Number of parameters in FNO2d: \n",
      "12030501\n",
      "Number of parameters in FNO2d_2: \n",
      "6030501\n"
     ]
    }
   ],
   "source": [
    "print(\"Number of parameters in FNO2d: \")\n",
    "print(param_count(trainer_fno_2d.model))\n",
    "print(\"Number of parameters in FNO2d_2: \")\n",
    "print(param_count(trainer_fno_2d_2.model))"
   ]
  },
  {
   "cell_type": "code",
   "execution_count": null,
   "metadata": {},
   "outputs": [],
   "source": []
  }
 ],
 "metadata": {
  "kernelspec": {
   "display_name": "prosjektoppgave",
   "language": "python",
   "name": "python3"
  },
  "language_info": {
   "codemirror_mode": {
    "name": "ipython",
    "version": 3
   },
   "file_extension": ".py",
   "mimetype": "text/x-python",
   "name": "python",
   "nbconvert_exporter": "python",
   "pygments_lexer": "ipython3",
   "version": "3.12.5"
  }
 },
 "nbformat": 4,
 "nbformat_minor": 2
}
