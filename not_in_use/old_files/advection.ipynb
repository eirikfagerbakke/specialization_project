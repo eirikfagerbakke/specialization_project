{
 "cells": [
  {
   "cell_type": "code",
   "execution_count": 18,
   "metadata": {},
   "outputs": [],
   "source": [
    "import jax\n",
    "import jax.numpy as jnp\n",
    "from jax import random, vmap\n",
    "jax.config.update(\"jax_enable_x64\", True)"
   ]
  },
  {
   "cell_type": "code",
   "execution_count": 20,
   "metadata": {},
   "outputs": [],
   "source": [
    "P = 20\n",
    "M = 100 # M+1 x grid\n",
    "N = 100 # N+1 t grid\n",
    "NUMBER_OF_SENSORS = M+1\n",
    "\n",
    "x = jnp.linspace(0, P, M+1)\n",
    "t = jnp.linspace(0, 5, N+1)"
   ]
  },
  {
   "cell_type": "code",
   "execution_count": 19,
   "metadata": {},
   "outputs": [],
   "source": [
    "def sech(x):\n",
    "    return 1/jnp.cosh(x) # sech isn't defined in NumPy\n",
    "\n",
    "def u_soliton(x, t, key = random.PRNGKey(0)):\n",
    "    c_key, d_key = random.split(key)\n",
    "    c = random.uniform(c_key, minval=0.5, maxval=1.5)\n",
    "    d = random.uniform(d_key, minval=0., maxval=20.)\n",
    "    return 1/2*c*sech(jnp.abs((x-c*t + d) % P - P/2))**2"
   ]
  },
  {
   "cell_type": "code",
   "execution_count": 21,
   "metadata": {},
   "outputs": [],
   "source": [
    "NUM_SAMPLES = 500\n",
    "\n",
    "data = vmap(vmap(u_soliton, (None, 0, None)), (None, None, 0))(x,t, random.split(random.PRNGKey(0), NUM_SAMPLES))"
   ]
  },
  {
   "cell_type": "code",
   "execution_count": 22,
   "metadata": {},
   "outputs": [],
   "source": [
    "train_val_test_split = [0.7, 0.15, 0.15]\n",
    "train_split_idx = int(NUM_SAMPLES*train_val_test_split[0])\n",
    "val_split_idx = int(NUM_SAMPLES*(train_val_test_split[0]+train_val_test_split[1]))\n",
    "\n",
    "train, val, test = jnp.split(data, [train_split_idx, val_split_idx])"
   ]
  },
  {
   "cell_type": "code",
   "execution_count": 23,
   "metadata": {},
   "outputs": [],
   "source": [
    "a_train = train[:,0]\n",
    "u_train = train\n",
    "\n",
    "a_val = val[:,0]\n",
    "u_val = val\n",
    "\n",
    "a_test = test[:,0]\n",
    "u_test = test"
   ]
  },
  {
   "cell_type": "code",
   "execution_count": 24,
   "metadata": {},
   "outputs": [],
   "source": [
    "jnp.savez(\"../data/advection.npz\", x=x, t=t, a_train=a_train, u_train=u_train, a_val=a_val, u_val=u_val, a_test=a_test, u_test=u_test)"
   ]
  }
 ],
 "metadata": {
  "kernelspec": {
   "display_name": "prosjektoppgave",
   "language": "python",
   "name": "python3"
  },
  "language_info": {
   "codemirror_mode": {
    "name": "ipython",
    "version": 3
   },
   "file_extension": ".py",
   "mimetype": "text/x-python",
   "name": "python",
   "nbconvert_exporter": "python",
   "pygments_lexer": "ipython3",
   "version": "3.12.5"
  }
 },
 "nbformat": 4,
 "nbformat_minor": 2
}
