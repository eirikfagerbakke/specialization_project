{
 "cells": [
  {
   "cell_type": "markdown",
   "metadata": {},
   "source": [
    "# The KdV equation\n",
    "\n",
    "In this notebook, we consider the one-dimensional forced Korteweg–de Vries (KdV) equation for waves on shallow water. It is given by\n",
    "\\begin{equation}\n",
    "u_t + \\eta u u_x + \\gamma^2 u_{xxx} = g(x,t),\n",
    "\\end{equation}\n",
    "where $\\eta, \\gamma \\in \\mathbb{R}$. If $g(x,t) = 0$, we have the standard unforced KdV equation.\n",
    "\n",
    "For the standard KdV equation, the energy given by\n",
    "$$\n",
    "\\begin{align*}\n",
    "\\mathcal{H}[u] &= \\int_\\mathbb{R} \\left(-\\frac{\\eta}{6} u^3 + \\frac{\\gamma^2}{2}u_x^2 \\right)\\, dx\n",
    "\\end{align*}\n",
    "$$\n",
    "is conserved, i.e. constant over time.\n",
    "\n",
    "In this notebook I will use a neural operator network, in an attempt to learn the transformation from initial conditions (at $t=0$) to solutions at a later timepoints, $t>0$.\n",
    "\n",
    "I will also enfore hard constraints on the network, to make it preserve the Hamiltonian."
   ]
  },
  {
   "cell_type": "markdown",
   "metadata": {},
   "source": [
    "## Import libraries"
   ]
  },
  {
   "cell_type": "code",
   "execution_count": 18,
   "metadata": {},
   "outputs": [],
   "source": [
    "from typing import Callable\n",
    "\n",
    "import diffrax\n",
    "import equinox as eqx  # https://github.com/patrick-kidger/equinox\n",
    "import jax\n",
    "import jax.lax as lax\n",
    "import jax.numpy as jnp\n",
    "import matplotlib.pyplot as plt\n",
    "from jaxtyping import Array, Float  # https://github.com/google/jaxtyping\n",
    "import jax.random as random\n",
    "import optimistix as optx\n",
    "\n",
    "jax.config.update(\"jax_enable_x64\", True)\n",
    "key = random.key(0)"
   ]
  },
  {
   "cell_type": "markdown",
   "metadata": {},
   "source": [
    "## Parameters"
   ]
  },
  {
   "cell_type": "code",
   "execution_count": 19,
   "metadata": {},
   "outputs": [],
   "source": [
    "η = 6.0\n",
    "γ = 1.0\n",
    "P = 20 # period (and end of the domain)\n",
    "M = 100 # M+1 equally spaced points in the domain, but we exclude the last one due to periodicity\n",
    "N = 100 # N+1 time points \n",
    "\n",
    "t0 = 0.0 # initial time\n",
    "t_final = 5.0 # end time\n",
    "\n",
    "dt = t_final / N # time step\n",
    "dx = P / M # space step\n",
    "\n",
    "x0 = 0.0 # initial position\n",
    "x_final = P-dx # final position (excluding the last point due to periodicity)\n",
    "\n",
    "x = jnp.linspace(x0, x_final, M) # domain\n",
    "t = jnp.linspace(t0, t_final, N+1) # time domain\n",
    "\n",
    "args = {\"η\" : η, \"γ\": γ}"
   ]
  },
  {
   "cell_type": "markdown",
   "metadata": {},
   "source": [
    "## Generate initial conditions"
   ]
  },
  {
   "cell_type": "code",
   "execution_count": 20,
   "metadata": {},
   "outputs": [],
   "source": [
    "def sech(x): return 1/jnp.cosh(x)\n",
    "\n",
    "def initial_condition_kdv(x, key, η=6., P=20):\n",
    "    \"\"\"\n",
    "    Generate the initial condition for the Korteweg-de Vries (KdV) equation.\n",
    "    Parameters:\n",
    "        x (float or array-like) : A single point or array in the spatial domain. \n",
    "        key (jax.random.PRNGKey): The random key for generating random numbers.\n",
    "        η (float, optional): The coefficient for the KdV equation. Default is 6.\n",
    "        P (float, optional): The period of the spatial domain. Default is 20.\n",
    "    Returns:\n",
    "        array-like: The initial condition for the KdV equation.\n",
    "    \"\"\"\n",
    "    \n",
    "    key_cs, key_ds = random.split(key, 2)\n",
    "    c1, c2 = random.uniform(key_cs, minval=0.5, maxval=2, shape=(2,))\n",
    "    d1, d2 = random.uniform(key_ds, minval=0, maxval=1, shape=(2,))\n",
    "    \n",
    "    u0 = (-6./-η)*2 * c1**2 * sech(c1 * ((x+P/2-P*d1) % P - P/2))**2\n",
    "    u0 += (-6./-η)*2 * c2**2 * sech(c2 * ((x+P/2-P*d2) % P - P/2))**2\n",
    "    return u0"
   ]
  },
  {
   "cell_type": "code",
   "execution_count": 21,
   "metadata": {},
   "outputs": [],
   "source": [
    "def Dx(u, dx):\n",
    "    u_next = jnp.roll(u, shift=1)\n",
    "    u_prev = jnp.roll(u, shift=-1)\n",
    "    \n",
    "    return (u_next - u_prev) / (2 * dx)\n",
    "\n",
    "def Dxx(u, dx):\n",
    "    u_next = jnp.roll(u, shift=1)\n",
    "    u_prev = jnp.roll(u, shift=-1)\n",
    "    \n",
    "    return (u_next - 2 * u + u_prev) / dx**2"
   ]
  },
  {
   "cell_type": "code",
   "execution_count": 22,
   "metadata": {},
   "outputs": [],
   "source": [
    "class ImplicitMidpoint(diffrax.AbstractSolver):\n",
    "    rtol: float\n",
    "    atol: float\n",
    "\n",
    "    term_structure = diffrax.ODETerm\n",
    "    interpolation_cls = diffrax.LocalLinearInterpolation\n",
    "\n",
    "    def order(self, terms):\n",
    "        return 2\n",
    "\n",
    "    def init(self, terms, t0, t1, y0, args):\n",
    "        return None\n",
    "\n",
    "    def step(self, terms, t0, t1, y0, args, solver_state, made_jump):\n",
    "        del solver_state, made_jump\n",
    "        δt = t1 - t0\n",
    "        f0 = terms.vf(t0, y0, args)\n",
    "\n",
    "        euler_y1 = y0 + δt * f0 # Euler step\n",
    "    \n",
    "        # The update should satisfy y1 = fn(y1), i.e. y1 is a fixed point of fn\n",
    "        def fn(y, args):\n",
    "            return y0 + δt * terms.vf(t0+0.5*δt, 0.5*(y0+y), args) \n",
    "\n",
    "        solver = optx.Newton(self.rtol, self.atol) # Chord is Newtons' method, but reuses the jacobian of the first guess\n",
    "        y1 = optx.fixed_point(fn, solver, euler_y1, args).value  # satisfies y1 == fn(y1)\n",
    "\n",
    "        y_error = None\n",
    "        dense_info = dict(y0=y0, y1=y1)\n",
    "        solver_state = None\n",
    "        result = diffrax.RESULTS.successful\n",
    "        return y1, y_error, dense_info, solver_state, result\n",
    "\n",
    "    def func(self, terms, t0, y0, args):\n",
    "        return terms.vf(t0, y0, args)"
   ]
  },
  {
   "cell_type": "code",
   "execution_count": 23,
   "metadata": {},
   "outputs": [],
   "source": [
    "# Problem\n",
    "def vector_field(t, u, args):\n",
    "    η = 6.0# args[\"η\"]\n",
    "    γ = 1.0#args[\"γ\"]\n",
    "    return -1.*Dx(0.5*η*u**2 + γ**2 * Dxx(u, dx), dx)\n",
    "\n",
    "term = diffrax.ODETerm(vector_field)\n",
    "\n",
    "# Spatial discretisation\n",
    "y0 = initial_condition_kdv(x, random.key(0))\n",
    "saveat = diffrax.SaveAt(ts = t)\n",
    "\n",
    "# Tolerances\n",
    "rtol = 1e-12\n",
    "atol = 1e-12\n",
    "\n",
    "solver = ImplicitMidpoint(rtol=rtol, atol=atol)\n",
    "\n",
    "sol = diffrax.diffeqsolve(\n",
    "    term,\n",
    "    solver,\n",
    "    t0,\n",
    "    t_final,\n",
    "    dt,\n",
    "    y0,\n",
    "    saveat=saveat,\n",
    "    max_steps=None,\n",
    "    args = args,\n",
    ")"
   ]
  },
  {
   "cell_type": "code",
   "execution_count": 24,
   "metadata": {},
   "outputs": [],
   "source": [
    "def H_energy(u):\n",
    "    η, γ = 6.0, 1.0\n",
    "    ux = Dx(u, dx)\n",
    "    integrand = (-η/6*u**3 + 0.5*γ**2*ux**2)\n",
    "    return dx*jnp.sum(integrand)"
   ]
  },
  {
   "cell_type": "code",
   "execution_count": 25,
   "metadata": {},
   "outputs": [
    {
     "data": {
      "image/png": "[encoded data removed]",
      "text/plain": [
       "<Figure size 700x400 with 1 Axes>"
      ]
     },
     "metadata": {},
     "output_type": "display_data"
    }
   ],
   "source": [
    "Hs = jax.vmap(H_energy)(sol.ys)\n",
    "\n",
    "fig = plt.figure(figsize=(7,4))\n",
    "lw = 2\n",
    "plt.plot(sol.ts, jnp.abs(Hs-Hs[0]), 'k', linewidth=lw)\n",
    "plt.xlabel(r'$t$', fontsize=12)\n",
    "plt.ylabel(r'$|\\mathcal{H}(t) - \\mathcal{H}(t_0)|$', fontsize=12)\n",
    "plt.title('Energy error', fontsize=14)\n",
    "plt.show()"
   ]
  },
  {
   "cell_type": "markdown",
   "metadata": {},
   "source": [
    "## Solve many KdVs at once!"
   ]
  },
  {
   "cell_type": "code",
   "execution_count": 18,
   "metadata": {},
   "outputs": [],
   "source": [
    "num_samples = 8000\n",
    "\n",
    "keys = random.split(random.PRNGKey(0), num_samples)\n",
    "\n",
    "initial_conditions = jax.vmap(jax.vmap(initial_condition_kdv, [0, None]), [None, 0])(x, keys)\n",
    "\n",
    "initial_conditions = initial_conditions[:, jnp.newaxis, :]"
   ]
  },
  {
   "cell_type": "code",
   "execution_count": null,
   "metadata": {},
   "outputs": [],
   "source": []
  }
 ],
 "metadata": {
  "kernelspec": {
   "display_name": "prosjektoppgave",
   "language": "python",
   "name": "python3"
  },
  "language_info": {
   "codemirror_mode": {
    "name": "ipython",
    "version": 3
   },
   "file_extension": ".py",
   "mimetype": "text/x-python",
   "name": "python",
   "nbconvert_exporter": "python",
   "pygments_lexer": "ipython3",
   "version": "3.12.5"
  }
 },
 "nbformat": 4,
 "nbformat_minor": 2
}
