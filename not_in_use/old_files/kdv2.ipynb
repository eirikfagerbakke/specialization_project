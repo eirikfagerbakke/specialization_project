{
 "cells": [
  {
   "cell_type": "markdown",
   "metadata": {},
   "source": [
    "# The KdV equation\n",
    "\n",
    "In this notebook, we consider the one-dimensional forced Korteweg–de Vries (KdV) equation for waves on shallow water. It is given by\n",
    "\\begin{equation}\n",
    "u_t + \\eta u u_x + \\gamma^2 u_{xxx} = g(x,t),\n",
    "\\end{equation}\n",
    "where $\\eta, \\gamma \\in \\mathbb{R}$. If $g(x,t) = 0$, we have the standard unforced KdV equation.\n",
    "\n",
    "For the standard KdV equation, the energy given by\n",
    "$$\n",
    "\\begin{align*}\n",
    "\\mathcal{H}[u] &= \\int_\\mathbb{R} \\left(-\\frac{\\eta}{6} u^3 + \\frac{\\gamma^2}{2}u_x^2 \\right)\\, dx\n",
    "\\end{align*}\n",
    "$$"
   ]
  },
  {
   "cell_type": "markdown",
   "metadata": {},
   "source": [
    "## Import libraries"
   ]
  },
  {
   "cell_type": "code",
   "execution_count": 1,
   "metadata": {},
   "outputs": [],
   "source": [
    "import jax\n",
    "import jax.numpy as jnp\n",
    "import matplotlib.pyplot as plt\n",
    "import jax.random as random\n",
    "import optimistix as optx\n",
    "from functools import partial\n",
    "\n",
    "jax.config.update(\"jax_enable_x64\", True)\n",
    "key = random.PRNGKey(0)\n",
    "\n",
    "#from discretization import SpatialDiscretization, SpatioTemporalDiscretization, central_difference_1, central_difference_2"
   ]
  },
  {
   "cell_type": "markdown",
   "metadata": {},
   "source": [
    "## Parameters"
   ]
  },
  {
   "cell_type": "code",
   "execution_count": 2,
   "metadata": {},
   "outputs": [],
   "source": [
    "import numpy as np"
   ]
  },
  {
   "cell_type": "code",
   "execution_count": 3,
   "metadata": {},
   "outputs": [],
   "source": [
    "η = 6.0\n",
    "γ = 1.0\n",
    "P = 20 # period (and end of the domain)\n",
    "M = 100 # M+1 equally spaced points in the domain, but we exclude the last one due to periodicity\n",
    "N = 500 # N+1 time points \n",
    "\n",
    "t0 = 0.0 # initial time\n",
    "t_final = 5.0 # end time\n",
    "\n",
    "dt = t_final / N # time step\n",
    "dx = P / M # space step\n",
    "\n",
    "x0 = 0.0 # initial position\n",
    "x_final = P-dx # final position (excluding the last point due to periodicity)\n",
    "\n",
    "x = jnp.linspace(x0, x_final, M) # domain\n",
    "t = jnp.linspace(t0, t_final, N+1) # time domain\n",
    "\n",
    "args = {\"η\" : η, \"γ\": γ, \"dx\" : dx}"
   ]
  },
  {
   "cell_type": "markdown",
   "metadata": {},
   "source": [
    "## Generate initial conditions"
   ]
  },
  {
   "cell_type": "code",
   "execution_count": 4,
   "metadata": {},
   "outputs": [],
   "source": [
    "def sech(x): return 1/jnp.cosh(x)\n",
    "\n",
    "def initial_condition_kdv(x, key, η=6., P=20):\n",
    "    \"\"\"\n",
    "    Generate the initial condition for the Korteweg-de Vries (KdV) equation.\n",
    "    Parameters:\n",
    "        x (float or array-like) : A single point or array in the spatial domain. \n",
    "        key (jax.random.PRNGKey): The random key for generating random numbers.\n",
    "        η (float, optional): The coefficient for the KdV equation. Default is 6.\n",
    "        P (float, optional): The period of the spatial domain. Default is 20.\n",
    "    Returns:\n",
    "        array-like: The initial condition for the KdV equation.\n",
    "    \"\"\"\n",
    "    \n",
    "    key_cs, key_ds = random.split(key, 2)\n",
    "    c1, c2 = random.uniform(key_cs, minval=0.5, maxval=2, shape=(2,))\n",
    "    d1, d2 = random.uniform(key_ds, minval=0, maxval=1, shape=(2,))\n",
    "    \n",
    "    u0 = (-6./-η)*2 * c1**2 * sech(c1 * ((x+P/2-P*d1) % P - P/2))**2\n",
    "    u0 += (-6./-η)*2 * c2**2 * sech(c2 * ((x+P/2-P*d2) % P - P/2))**2\n",
    "    return u0"
   ]
  },
  {
   "cell_type": "code",
   "execution_count": 5,
   "metadata": {},
   "outputs": [],
   "source": [
    "#@jax.jit\n",
    "def Dx(y, dx):\n",
    "    y_next = jnp.roll(y, shift=1)\n",
    "    y_prev = jnp.roll(y, shift=-1)\n",
    "    \n",
    "    return (y_next - y_prev) / (2 * dx)\n",
    "\n",
    "#@jax.jit\n",
    "def Dxx(y, dx):\n",
    "    y_next = jnp.roll(y, shift=1)\n",
    "    y_prev = jnp.roll(y, shift=-1)\n",
    "    \n",
    "    return (y_next - 2 * y + y_prev) / dx**2"
   ]
  },
  {
   "cell_type": "code",
   "execution_count": 6,
   "metadata": {},
   "outputs": [],
   "source": [
    "\n",
    "def implicit_midpoint_step(f, tn, un, dt, args, rtol, atol):\n",
    "    fn = f(tn, un, args)\n",
    "\n",
    "    # The update should satisfy y1 = eq(y1), i.e. y1 is a fixed point of fn\n",
    "    def eq(u, args):\n",
    "        return un + dt * f(tn+0.5*dt, 0.5*(un+u), args)\n",
    "    \n",
    "    u_next_euler = un + dt * fn # Euler step as guess\n",
    "\n",
    "    solver = optx.Newton(rtol, atol) # Chord is Newtons' method, but reuses the jacobian of the first guess\n",
    "    u_next = optx.fixed_point(eq, solver, u_next_euler, args).value  # satisfies y1 == fn(y1)\n",
    "    \n",
    "    return u_next\n",
    "\n",
    "@partial(jax.jit, static_argnums=(0,))\n",
    "def implicit_midpoint(f, u0, dt, t, args, rtol, atol):\n",
    "    def scan_body(carry, t):\n",
    "        u, dt = carry\n",
    "        u_next = implicit_midpoint_step(f, t, u, dt, args, rtol, atol)\n",
    "        return (u_next, dt), u\n",
    "    \n",
    "    _, u_arr = jax.lax.scan(scan_body, (u0, dt), t)\n",
    "    return u_arr"
   ]
  },
  {
   "cell_type": "code",
   "execution_count": 7,
   "metadata": {},
   "outputs": [],
   "source": [
    "def f(t, u, args):\n",
    "    η = args[\"η\"]\n",
    "    γ = args[\"γ\"]\n",
    "    dx = args[\"dx\"]\n",
    "    return -1.*Dx(0.5*η*u*u + γ**2 * Dxx(u, dx), dx)"
   ]
  },
  {
   "cell_type": "code",
   "execution_count": 8,
   "metadata": {},
   "outputs": [],
   "source": [
    "u0 = initial_condition_kdv(x, random.PRNGKey(0))\n",
    "\n",
    "atol, rtol = 1e-12, 1e-12\n",
    "\n",
    "u_arr = implicit_midpoint(f, u0, dt, t, args, rtol, atol)"
   ]
  },
  {
   "cell_type": "code",
   "execution_count": 9,
   "metadata": {},
   "outputs": [],
   "source": [
    "def H_energy(u, args):\n",
    "    η, γ, dx = args[\"η\"], args[\"γ\"], args[\"dx\"]\n",
    "    integrand = (-η/6*u**3 + 0.5*γ**2*Dx(u, dx)**2)\n",
    "    return dx*jnp.sum(integrand)"
   ]
  },
  {
   "cell_type": "code",
   "execution_count": 10,
   "metadata": {},
   "outputs": [],
   "source": [
    "def H_mass(u, args):\n",
    "    return dx * jnp.sum(u)\n",
    "\n",
    "def H_momentum(u, args):\n",
    "    return dx * jnp.sum(u**2)"
   ]
  },
  {
   "cell_type": "code",
   "execution_count": 11,
   "metadata": {},
   "outputs": [
    {
     "data": {
      "image/png": "[encoded data removed]",
      "text/plain": [
       "<Figure size 700x400 with 1 Axes>"
      ]
     },
     "metadata": {},
     "output_type": "display_data"
    }
   ],
   "source": [
    "Hs = jax.vmap(H_energy, [0, None])(u_arr, args)\n",
    "\n",
    "fig = plt.figure(figsize=(7,4))\n",
    "lw = 2\n",
    "plt.plot(t, jnp.abs(Hs-Hs[0]), 'k', linewidth=lw)\n",
    "plt.xlabel(r'$t$', fontsize=12)\n",
    "plt.ylabel(r'$|\\mathcal{H}(t) - \\mathcal{H}(t_0)|$', fontsize=12)\n",
    "plt.title('Energy error', fontsize=14)\n",
    "plt.show()"
   ]
  },
  {
   "cell_type": "markdown",
   "metadata": {},
   "source": [
    "## Solve many KdVs at once!\n",
    "\n",
    "We want to store the solutions in an array with shape (Samples,) where each element is a SpatioTemporalDiscretization"
   ]
  },
  {
   "cell_type": "code",
   "execution_count": 13,
   "metadata": {},
   "outputs": [],
   "source": [
    "NUM_SAMPLES = 500\n",
    "\n",
    "keys = random.split(random.key(0), NUM_SAMPLES)\n",
    "\n",
    "a = jax.vmap(initial_condition_kdv, (None, 0))(x, keys)\n",
    "\n",
    "data = jax.vmap(implicit_midpoint, (None, 0, None, None, None, None, None))(f, a, dt, t, args, rtol, atol)"
   ]
  },
  {
   "cell_type": "code",
   "execution_count": 14,
   "metadata": {},
   "outputs": [
    {
     "name": "stderr",
     "output_type": "stream",
     "text": [
      "jax.pure_callback failed\n",
      "Traceback (most recent call last):\n",
      "  File \"c:\\Users\\eirik\\anaconda3\\envs\\prosjektoppgave\\Lib\\site-packages\\jax\\_src\\callback.py\", line 86, in pure_callback_impl\n",
      "    return tree_util.tree_map(np.asarray, callback(*args))\n",
      "                                          ^^^^^^^^^^^^^^^\n",
      "  File \"c:\\Users\\eirik\\anaconda3\\envs\\prosjektoppgave\\Lib\\site-packages\\jax\\_src\\callback.py\", line 64, in __call__\n",
      "    return tree_util.tree_leaves(self.callback_func(*args, **kwargs))\n",
      "                                 ^^^^^^^^^^^^^^^^^^^^^^^^^^^^^^^^^^^\n",
      "  File \"c:\\Users\\eirik\\anaconda3\\envs\\prosjektoppgave\\Lib\\site-packages\\equinox\\_errors.py\", line 89, in raises\n",
      "    raise _EquinoxRuntimeError(\n",
      "equinox._errors._EquinoxRuntimeError: The maximum number of steps was reached in the nonlinear solver. The problem may not be solveable (e.g., a root-find on a function that has no roots), or you may need to increase `max_steps`.\n",
      "\n",
      "\n",
      "--------------------\n",
      "An error occurred during the runtime of your JAX program! Unfortunately you do not appear to be using `equinox.filter_jit` (perhaps you are using `jax.jit` instead?) and so further information about the error cannot be displayed. (Probably you are seeing a very large but uninformative error message right now.) Please wrap your program with `equinox.filter_jit`.\n",
      "--------------------\n",
      "\n"
     ]
    },
    {
     "ename": "XlaRuntimeError",
     "evalue": "FAILED_PRECONDITION: Buffer Definition Event: Error dispatching computation: %sError dispatching computation: %sError dispatching computation: %sError dispatching computation: %sCpuCallback error: Traceback (most recent call last):\n  File \"c:\\Users\\eirik\\anaconda3\\envs\\prosjektoppgave\\Lib\\site-packages\\jax\\_src\\interpreters\\mlir.py\", line 2793, in _wrapped_callback\n  File \"c:\\Users\\eirik\\anaconda3\\envs\\prosjektoppgave\\Lib\\site-packages\\jax\\_src\\callback.py\", line 228, in _callback\n  File \"c:\\Users\\eirik\\anaconda3\\envs\\prosjektoppgave\\Lib\\site-packages\\jax\\_src\\callback.py\", line 89, in pure_callback_impl\n  File \"c:\\Users\\eirik\\anaconda3\\envs\\prosjektoppgave\\Lib\\site-packages\\jax\\_src\\callback.py\", line 64, in __call__\n  File \"c:\\Users\\eirik\\anaconda3\\envs\\prosjektoppgave\\Lib\\site-packages\\equinox\\_errors.py\", line 89, in raises\n_EquinoxRuntimeError: The maximum number of steps was reached in the nonlinear solver. The problem may not be solveable (e.g., a root-find on a function that has no roots), or you may need to increase `max_steps`.\n\n\n--------------------\nAn error occurred during the runtime of your JAX program! Unfortunately you do not appear to be using `equinox.filter_jit` (perhaps you are using `jax.jit` instead?) and so further information about the error cannot be displayed. (Probably you are seeing a very large but uninformative error message right now.) Please wrap your program with `equinox.filter_jit`.\n--------------------\n",
     "output_type": "error",
     "traceback": [
      "\u001b[1;31m---------------------------------------------------------------------------\u001b[0m",
      "\u001b[1;31mXlaRuntimeError\u001b[0m                           Traceback (most recent call last)",
      "Cell \u001b[1;32mIn[14], line 16\u001b[0m\n\u001b[0;32m     13\u001b[0m a_test \u001b[38;5;241m=\u001b[39m test[:,\u001b[38;5;241m0\u001b[39m]\n\u001b[0;32m     14\u001b[0m u_test \u001b[38;5;241m=\u001b[39m test\n\u001b[1;32m---> 16\u001b[0m \u001b[43mjnp\u001b[49m\u001b[38;5;241;43m.\u001b[39;49m\u001b[43msavez\u001b[49m\u001b[43m(\u001b[49m\u001b[38;5;124;43m\"\u001b[39;49m\u001b[38;5;124;43mkdv\u001b[39;49m\u001b[38;5;124;43m\"\u001b[39;49m\u001b[43m,\u001b[49m\u001b[43m \u001b[49m\u001b[43mx\u001b[49m\u001b[38;5;241;43m=\u001b[39;49m\u001b[43mx\u001b[49m\u001b[43m,\u001b[49m\u001b[43m \u001b[49m\u001b[43mt\u001b[49m\u001b[38;5;241;43m=\u001b[39;49m\u001b[43mt\u001b[49m\u001b[43m,\u001b[49m\u001b[43m \u001b[49m\u001b[43ma_train\u001b[49m\u001b[38;5;241;43m=\u001b[39;49m\u001b[43ma_train\u001b[49m\u001b[43m,\u001b[49m\u001b[43m \u001b[49m\u001b[43mu_train\u001b[49m\u001b[38;5;241;43m=\u001b[39;49m\u001b[43mu_train\u001b[49m\u001b[43m,\u001b[49m\u001b[43m \u001b[49m\u001b[43ma_val\u001b[49m\u001b[38;5;241;43m=\u001b[39;49m\u001b[43ma_val\u001b[49m\u001b[43m,\u001b[49m\u001b[43m \u001b[49m\u001b[43mu_val\u001b[49m\u001b[38;5;241;43m=\u001b[39;49m\u001b[43mu_val\u001b[49m\u001b[43m,\u001b[49m\u001b[43m \u001b[49m\u001b[43ma_test\u001b[49m\u001b[38;5;241;43m=\u001b[39;49m\u001b[43ma_test\u001b[49m\u001b[43m,\u001b[49m\u001b[43m \u001b[49m\u001b[43mu_test\u001b[49m\u001b[38;5;241;43m=\u001b[39;49m\u001b[43mu_test\u001b[49m\u001b[43m)\u001b[49m\n",
      "File \u001b[1;32m~\\AppData\\Roaming\\Python\\Python312\\site-packages\\numpy\\lib\\npyio.py:639\u001b[0m, in \u001b[0;36msavez\u001b[1;34m(file, *args, **kwds)\u001b[0m\n\u001b[0;32m    555\u001b[0m \u001b[38;5;129m@array_function_dispatch\u001b[39m(_savez_dispatcher)\n\u001b[0;32m    556\u001b[0m \u001b[38;5;28;01mdef\u001b[39;00m \u001b[38;5;21msavez\u001b[39m(file, \u001b[38;5;241m*\u001b[39margs, \u001b[38;5;241m*\u001b[39m\u001b[38;5;241m*\u001b[39mkwds):\n\u001b[0;32m    557\u001b[0m \u001b[38;5;250m    \u001b[39m\u001b[38;5;124;03m\"\"\"Save several arrays into a single file in uncompressed ``.npz`` format.\u001b[39;00m\n\u001b[0;32m    558\u001b[0m \n\u001b[0;32m    559\u001b[0m \u001b[38;5;124;03m    Provide arrays as keyword arguments to store them under the\u001b[39;00m\n\u001b[1;32m   (...)\u001b[0m\n\u001b[0;32m    637\u001b[0m \n\u001b[0;32m    638\u001b[0m \u001b[38;5;124;03m    \"\"\"\u001b[39;00m\n\u001b[1;32m--> 639\u001b[0m     \u001b[43m_savez\u001b[49m\u001b[43m(\u001b[49m\u001b[43mfile\u001b[49m\u001b[43m,\u001b[49m\u001b[43m \u001b[49m\u001b[43margs\u001b[49m\u001b[43m,\u001b[49m\u001b[43m \u001b[49m\u001b[43mkwds\u001b[49m\u001b[43m,\u001b[49m\u001b[43m \u001b[49m\u001b[38;5;28;43;01mFalse\u001b[39;49;00m\u001b[43m)\u001b[49m\n",
      "File \u001b[1;32m~\\AppData\\Roaming\\Python\\Python312\\site-packages\\numpy\\lib\\npyio.py:740\u001b[0m, in \u001b[0;36m_savez\u001b[1;34m(file, args, kwds, compress, allow_pickle, pickle_kwargs)\u001b[0m\n\u001b[0;32m    738\u001b[0m \u001b[38;5;28;01mfor\u001b[39;00m key, val \u001b[38;5;129;01min\u001b[39;00m namedict\u001b[38;5;241m.\u001b[39mitems():\n\u001b[0;32m    739\u001b[0m     fname \u001b[38;5;241m=\u001b[39m key \u001b[38;5;241m+\u001b[39m \u001b[38;5;124m'\u001b[39m\u001b[38;5;124m.npy\u001b[39m\u001b[38;5;124m'\u001b[39m\n\u001b[1;32m--> 740\u001b[0m     val \u001b[38;5;241m=\u001b[39m \u001b[43mnp\u001b[49m\u001b[38;5;241;43m.\u001b[39;49m\u001b[43masanyarray\u001b[49m\u001b[43m(\u001b[49m\u001b[43mval\u001b[49m\u001b[43m)\u001b[49m\n\u001b[0;32m    741\u001b[0m     \u001b[38;5;66;03m# always force zip64, gh-10776\u001b[39;00m\n\u001b[0;32m    742\u001b[0m     \u001b[38;5;28;01mwith\u001b[39;00m zipf\u001b[38;5;241m.\u001b[39mopen(fname, \u001b[38;5;124m'\u001b[39m\u001b[38;5;124mw\u001b[39m\u001b[38;5;124m'\u001b[39m, force_zip64\u001b[38;5;241m=\u001b[39m\u001b[38;5;28;01mTrue\u001b[39;00m) \u001b[38;5;28;01mas\u001b[39;00m fid:\n",
      "File \u001b[1;32mc:\\Users\\eirik\\anaconda3\\envs\\prosjektoppgave\\Lib\\site-packages\\jax\\_src\\array.py:425\u001b[0m, in \u001b[0;36mArrayImpl.__array__\u001b[1;34m(self, dtype, context, copy)\u001b[0m\n\u001b[0;32m    422\u001b[0m \u001b[38;5;28;01mdef\u001b[39;00m \u001b[38;5;21m__array__\u001b[39m(\u001b[38;5;28mself\u001b[39m, dtype\u001b[38;5;241m=\u001b[39m\u001b[38;5;28;01mNone\u001b[39;00m, context\u001b[38;5;241m=\u001b[39m\u001b[38;5;28;01mNone\u001b[39;00m, copy\u001b[38;5;241m=\u001b[39m\u001b[38;5;28;01mNone\u001b[39;00m):\n\u001b[0;32m    423\u001b[0m   \u001b[38;5;66;03m# copy argument is supported by np.asarray starting in numpy 2.0\u001b[39;00m\n\u001b[0;32m    424\u001b[0m   kwds \u001b[38;5;241m=\u001b[39m {} \u001b[38;5;28;01mif\u001b[39;00m copy \u001b[38;5;129;01mis\u001b[39;00m \u001b[38;5;28;01mNone\u001b[39;00m \u001b[38;5;28;01melse\u001b[39;00m {\u001b[38;5;124m'\u001b[39m\u001b[38;5;124mcopy\u001b[39m\u001b[38;5;124m'\u001b[39m: copy}\n\u001b[1;32m--> 425\u001b[0m   \u001b[38;5;28;01mreturn\u001b[39;00m np\u001b[38;5;241m.\u001b[39masarray(\u001b[38;5;28;43mself\u001b[39;49m\u001b[38;5;241;43m.\u001b[39;49m\u001b[43m_value\u001b[49m, dtype\u001b[38;5;241m=\u001b[39mdtype, \u001b[38;5;241m*\u001b[39m\u001b[38;5;241m*\u001b[39mkwds)\n",
      "File \u001b[1;32mc:\\Users\\eirik\\anaconda3\\envs\\prosjektoppgave\\Lib\\site-packages\\jax\\_src\\profiler.py:333\u001b[0m, in \u001b[0;36mannotate_function.<locals>.wrapper\u001b[1;34m(*args, **kwargs)\u001b[0m\n\u001b[0;32m    330\u001b[0m \u001b[38;5;129m@wraps\u001b[39m(func)\n\u001b[0;32m    331\u001b[0m \u001b[38;5;28;01mdef\u001b[39;00m \u001b[38;5;21mwrapper\u001b[39m(\u001b[38;5;241m*\u001b[39margs, \u001b[38;5;241m*\u001b[39m\u001b[38;5;241m*\u001b[39mkwargs):\n\u001b[0;32m    332\u001b[0m   \u001b[38;5;28;01mwith\u001b[39;00m TraceAnnotation(name, \u001b[38;5;241m*\u001b[39m\u001b[38;5;241m*\u001b[39mdecorator_kwargs):\n\u001b[1;32m--> 333\u001b[0m     \u001b[38;5;28;01mreturn\u001b[39;00m \u001b[43mfunc\u001b[49m\u001b[43m(\u001b[49m\u001b[38;5;241;43m*\u001b[39;49m\u001b[43margs\u001b[49m\u001b[43m,\u001b[49m\u001b[43m \u001b[49m\u001b[38;5;241;43m*\u001b[39;49m\u001b[38;5;241;43m*\u001b[39;49m\u001b[43mkwargs\u001b[49m\u001b[43m)\u001b[49m\n\u001b[0;32m    334\u001b[0m   \u001b[38;5;28;01mreturn\u001b[39;00m wrapper\n",
      "File \u001b[1;32mc:\\Users\\eirik\\anaconda3\\envs\\prosjektoppgave\\Lib\\site-packages\\jax\\_src\\array.py:624\u001b[0m, in \u001b[0;36mArrayImpl._value\u001b[1;34m(self)\u001b[0m\n\u001b[0;32m    622\u001b[0m \u001b[38;5;28;01mif\u001b[39;00m \u001b[38;5;28mself\u001b[39m\u001b[38;5;241m.\u001b[39m_npy_value \u001b[38;5;129;01mis\u001b[39;00m \u001b[38;5;28;01mNone\u001b[39;00m:\n\u001b[0;32m    623\u001b[0m   \u001b[38;5;28;01mif\u001b[39;00m \u001b[38;5;28mself\u001b[39m\u001b[38;5;241m.\u001b[39mis_fully_replicated:\n\u001b[1;32m--> 624\u001b[0m     \u001b[38;5;28mself\u001b[39m\u001b[38;5;241m.\u001b[39m_npy_value \u001b[38;5;241m=\u001b[39m \u001b[38;5;28;43mself\u001b[39;49m\u001b[38;5;241;43m.\u001b[39;49m\u001b[43m_single_device_array_to_np_array\u001b[49m\u001b[43m(\u001b[49m\u001b[43m)\u001b[49m\n\u001b[0;32m    625\u001b[0m     \u001b[38;5;28mself\u001b[39m\u001b[38;5;241m.\u001b[39m_npy_value\u001b[38;5;241m.\u001b[39mflags\u001b[38;5;241m.\u001b[39mwriteable \u001b[38;5;241m=\u001b[39m \u001b[38;5;28;01mFalse\u001b[39;00m\n\u001b[0;32m    626\u001b[0m     \u001b[38;5;28;01mreturn\u001b[39;00m cast(np\u001b[38;5;241m.\u001b[39mndarray, \u001b[38;5;28mself\u001b[39m\u001b[38;5;241m.\u001b[39m_npy_value)\n",
      "\u001b[1;31mXlaRuntimeError\u001b[0m: FAILED_PRECONDITION: Buffer Definition Event: Error dispatching computation: %sError dispatching computation: %sError dispatching computation: %sError dispatching computation: %sCpuCallback error: Traceback (most recent call last):\n  File \"c:\\Users\\eirik\\anaconda3\\envs\\prosjektoppgave\\Lib\\site-packages\\jax\\_src\\interpreters\\mlir.py\", line 2793, in _wrapped_callback\n  File \"c:\\Users\\eirik\\anaconda3\\envs\\prosjektoppgave\\Lib\\site-packages\\jax\\_src\\callback.py\", line 228, in _callback\n  File \"c:\\Users\\eirik\\anaconda3\\envs\\prosjektoppgave\\Lib\\site-packages\\jax\\_src\\callback.py\", line 89, in pure_callback_impl\n  File \"c:\\Users\\eirik\\anaconda3\\envs\\prosjektoppgave\\Lib\\site-packages\\jax\\_src\\callback.py\", line 64, in __call__\n  File \"c:\\Users\\eirik\\anaconda3\\envs\\prosjektoppgave\\Lib\\site-packages\\equinox\\_errors.py\", line 89, in raises\n_EquinoxRuntimeError: The maximum number of steps was reached in the nonlinear solver. The problem may not be solveable (e.g., a root-find on a function that has no roots), or you may need to increase `max_steps`.\n\n\n--------------------\nAn error occurred during the runtime of your JAX program! Unfortunately you do not appear to be using `equinox.filter_jit` (perhaps you are using `jax.jit` instead?) and so further information about the error cannot be displayed. (Probably you are seeing a very large but uninformative error message right now.) Please wrap your program with `equinox.filter_jit`.\n--------------------\n"
     ]
    }
   ],
   "source": [
    "train_val_test_split = [0.7, 0.15, 0.15]\n",
    "train_split_idx = int(NUM_SAMPLES*train_val_test_split[0])\n",
    "val_split_idx = int(NUM_SAMPLES*(train_val_test_split[0]+train_val_test_split[1]))\n",
    "\n",
    "train, val, test = jnp.split(data, [train_split_idx, val_split_idx])\n",
    "\n",
    "a_train = train[:,0]\n",
    "u_train = train\n",
    "\n",
    "a_val = val[:,0]\n",
    "u_val = val\n",
    "\n",
    "a_test = test[:,0]\n",
    "u_test = test\n",
    "\n",
    "jnp.savez(\"kdv\", x=x, t=t, a_train=a_train, u_train=u_train, a_val=a_val, u_val=u_val, a_test=a_test, u_test=u_test)"
   ]
  }
 ],
 "metadata": {
  "kernelspec": {
   "display_name": "prosjektoppgave",
   "language": "python",
   "name": "python3"
  },
  "language_info": {
   "codemirror_mode": {
    "name": "ipython",
    "version": 3
   },
   "file_extension": ".py",
   "mimetype": "text/x-python",
   "name": "python",
   "nbconvert_exporter": "python",
   "pygments_lexer": "ipython3",
   "version": "3.12.5"
  }
 },
 "nbformat": 4,
 "nbformat_minor": 2
}
